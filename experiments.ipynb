{
 "cells": [
  {
   "cell_type": "code",
   "execution_count": 3,
   "metadata": {
    "pycharm": {
     "name": "#%%\n"
    },
    "tags": []
   },
   "outputs": [],
   "source": [
    "from aiGame import HighLevelAIGame\n",
    "from game import Game\n",
    "from tqdm.auto import trange\n",
    "import matplotlib.pyplot as plt\n",
    "import numpy as np"
   ]
  },
  {
   "cell_type": "code",
   "execution_count": 4,
   "metadata": {
    "collapsed": false,
    "jupyter": {
     "outputs_hidden": false
    },
    "pycharm": {
     "name": "#%%\n"
    }
   },
   "outputs": [],
   "source": [
    "# copied from RL hw starter code\n",
    "def plot_curves(arr_list, legend_list, color_list, ylabel, fig_title):\n",
    "    \"\"\"\n",
    "    Args:\n",
    "        arr_list (list): list of results arrays to plot\n",
    "        legend_list (list): list of legends corresponding to each result array\n",
    "        color_list (list): list of color corresponding to each result array\n",
    "        ylabel (string): label of the Y axis\n",
    "\n",
    "        Note that, make sure the elements in the arr_list, legend_list and color_list are associated with each other correctly.\n",
    "        Do not forget to change the ylabel for different plots.\n",
    "    \"\"\"\n",
    "    # set the figure type\n",
    "    fig, ax = plt.subplots(figsize=(12, 8))\n",
    "\n",
    "    # PLEASE NOTE: Change the labels for different plots\n",
    "    ax.set_ylabel(ylabel)\n",
    "    ax.set_xlabel(\"Time Steps\")\n",
    "\n",
    "    # ploth results\n",
    "    h_list = []\n",
    "    for arr, legend, color in zip(arr_list, legend_list, color_list):\n",
    "        # compute the standard error\n",
    "        arr_err = arr.std(axis=0) / np.sqrt(arr.shape[0])\n",
    "        # plot the mean\n",
    "        h, = ax.plot(range(arr.shape[1]), arr.mean(axis=0), color=color, label=legend)\n",
    "        # plot the confidence band\n",
    "        arr_err *= 1.96\n",
    "        ax.fill_between(range(arr.shape[1]), arr.mean(axis=0) - arr_err, arr.mean(axis=0) + arr_err, alpha=0.3,\n",
    "                        color=color)\n",
    "        # save the plot handle\n",
    "        h_list.append(h)\n",
    "\n",
    "    # plot legends\n",
    "    ax.set_title(f\"{fig_title}\")\n",
    "    ax.legend(handles=h_list)\n",
    "\n",
    "    plt.show()"
   ]
  },
  {
   "cell_type": "code",
   "execution_count": 5,
   "metadata": {
    "collapsed": false,
    "jupyter": {
     "outputs_hidden": false
    },
    "pycharm": {
     "name": "#%%\n"
    }
   },
   "outputs": [],
   "source": [
    "def runExperiment(initialState: 'AIGame', chooseAction, numTimesteps=100, numGames=10):\n",
    "    \"\"\"Run a game with the given policy,\n",
    "    cut off after numTimesteps time steps.\n",
    "    Run numGames games.\n",
    "    Return list of list of states (each game's history)\"\"\"\n",
    "    statess = []\n",
    "    for game in trange(numGames, desc=\"games loop\"):\n",
    "        state = initialState.copy()\n",
    "        states = [state.copy()]\n",
    "        for t in trange(numTimesteps, desc=f'game {game}'):\n",
    "            if state.isDead():\n",
    "                break\n",
    "            action = chooseAction(state)\n",
    "            state = state.move(action)\n",
    "            states.append(state)\n",
    "        statess.append(states)\n",
    "    return statess"
   ]
  },
  {
   "cell_type": "code",
   "execution_count": 6,
   "metadata": {
    "collapsed": false,
    "jupyter": {
     "outputs_hidden": false
    },
    "pycharm": {
     "name": "#%%\n"
    }
   },
   "outputs": [
    {
     "data": {
      "application/vnd.jupyter.widget-view+json": {
       "model_id": "447f658f1a2a49b9abdfe6bd9ef8d7e8",
       "version_major": 2,
       "version_minor": 0
      },
      "text/plain": [
       "games loop:   0%|          | 0/10 [00:00<?, ?it/s]"
      ]
     },
     "metadata": {},
     "output_type": "display_data"
    },
    {
     "data": {
      "application/vnd.jupyter.widget-view+json": {
       "model_id": "8dbdd4c11977453aaebb9922a52f6de2",
       "version_major": 2,
       "version_minor": 0
      },
      "text/plain": [
       "game 0:   0%|          | 0/100 [00:00<?, ?it/s]"
      ]
     },
     "metadata": {},
     "output_type": "display_data"
    },
    {
     "data": {
      "application/vnd.jupyter.widget-view+json": {
       "model_id": "d0edd70c7eb945f79905906c06eb8ec6",
       "version_major": 2,
       "version_minor": 0
      },
      "text/plain": [
       "game 1:   0%|          | 0/100 [00:00<?, ?it/s]"
      ]
     },
     "metadata": {},
     "output_type": "display_data"
    },
    {
     "data": {
      "application/vnd.jupyter.widget-view+json": {
       "model_id": "2a3fbaf29eca4568910194c9ab758422",
       "version_major": 2,
       "version_minor": 0
      },
      "text/plain": [
       "game 2:   0%|          | 0/100 [00:00<?, ?it/s]"
      ]
     },
     "metadata": {},
     "output_type": "display_data"
    },
    {
     "data": {
      "application/vnd.jupyter.widget-view+json": {
       "model_id": "9d8c65e1a20140ee873fcf3b1fdb55f3",
       "version_major": 2,
       "version_minor": 0
      },
      "text/plain": [
       "game 3:   0%|          | 0/100 [00:00<?, ?it/s]"
      ]
     },
     "metadata": {},
     "output_type": "display_data"
    },
    {
     "data": {
      "application/vnd.jupyter.widget-view+json": {
       "model_id": "14e820c1c135439a8382752985bd8d0c",
       "version_major": 2,
       "version_minor": 0
      },
      "text/plain": [
       "game 4:   0%|          | 0/100 [00:00<?, ?it/s]"
      ]
     },
     "metadata": {},
     "output_type": "display_data"
    },
    {
     "data": {
      "application/vnd.jupyter.widget-view+json": {
       "model_id": "467141418ddd4f11a50b6f17a45c4218",
       "version_major": 2,
       "version_minor": 0
      },
      "text/plain": [
       "game 5:   0%|          | 0/100 [00:00<?, ?it/s]"
      ]
     },
     "metadata": {},
     "output_type": "display_data"
    },
    {
     "data": {
      "application/vnd.jupyter.widget-view+json": {
       "model_id": "4670c96996574e0780c5ccbb665de49b",
       "version_major": 2,
       "version_minor": 0
      },
      "text/plain": [
       "game 6:   0%|          | 0/100 [00:00<?, ?it/s]"
      ]
     },
     "metadata": {},
     "output_type": "display_data"
    },
    {
     "data": {
      "application/vnd.jupyter.widget-view+json": {
       "model_id": "f61646fae24846b98110bc43ec795ac7",
       "version_major": 2,
       "version_minor": 0
      },
      "text/plain": [
       "game 7:   0%|          | 0/100 [00:00<?, ?it/s]"
      ]
     },
     "metadata": {},
     "output_type": "display_data"
    },
    {
     "data": {
      "application/vnd.jupyter.widget-view+json": {
       "model_id": "e30425cc9bc145d9a50f4602937129df",
       "version_major": 2,
       "version_minor": 0
      },
      "text/plain": [
       "game 8:   0%|          | 0/100 [00:00<?, ?it/s]"
      ]
     },
     "metadata": {},
     "output_type": "display_data"
    },
    {
     "data": {
      "application/vnd.jupyter.widget-view+json": {
       "model_id": "e88259409eab439e9a7dbdbc0b26185b",
       "version_major": 2,
       "version_minor": 0
      },
      "text/plain": [
       "game 9:   0%|          | 0/100 [00:00<?, ?it/s]"
      ]
     },
     "metadata": {},
     "output_type": "display_data"
    }
   ],
   "source": [
    "from montecarlo import *\n",
    "state = HighLevelAIGame(Game())\n",
    "mcts = ScoreEvalMCTS()\n",
    "numIterations = 150\n",
    "def chooseAction(state):\n",
    "    return mcts.chooseAction(state, numIterations=numIterations)\n",
    "scoreEvalMCTSResults = runExperiment(state, chooseAction, numGames=10)"
   ]
  },
  {
   "cell_type": "code",
   "execution_count": 7,
   "metadata": {
    "collapsed": false,
    "jupyter": {
     "outputs_hidden": false
    },
    "pycharm": {
     "is_executing": true,
     "name": "#%%\n"
    }
   },
   "outputs": [
    {
     "data": {
      "application/vnd.jupyter.widget-view+json": {
       "model_id": "7a010fc7c769419ea12bb90c04015447",
       "version_major": 2,
       "version_minor": 0
      },
      "text/plain": [
       "games loop:   0%|          | 0/10 [00:00<?, ?it/s]"
      ]
     },
     "metadata": {},
     "output_type": "display_data"
    },
    {
     "data": {
      "application/vnd.jupyter.widget-view+json": {
       "model_id": "6022dd5d59564bb395f836fc836f0a74",
       "version_major": 2,
       "version_minor": 0
      },
      "text/plain": [
       "game 0:   0%|          | 0/100 [00:00<?, ?it/s]"
      ]
     },
     "metadata": {},
     "output_type": "display_data"
    },
    {
     "data": {
      "application/vnd.jupyter.widget-view+json": {
       "model_id": "a5bb86ed98c14b0f96a15cddd15d034d",
       "version_major": 2,
       "version_minor": 0
      },
      "text/plain": [
       "game 1:   0%|          | 0/100 [00:00<?, ?it/s]"
      ]
     },
     "metadata": {},
     "output_type": "display_data"
    },
    {
     "data": {
      "application/vnd.jupyter.widget-view+json": {
       "model_id": "0f8ce5f4e55849989ef02960daae1d44",
       "version_major": 2,
       "version_minor": 0
      },
      "text/plain": [
       "game 2:   0%|          | 0/100 [00:00<?, ?it/s]"
      ]
     },
     "metadata": {},
     "output_type": "display_data"
    },
    {
     "data": {
      "application/vnd.jupyter.widget-view+json": {
       "model_id": "53098f30ee1c4ae6a37d4851230d1cfa",
       "version_major": 2,
       "version_minor": 0
      },
      "text/plain": [
       "game 3:   0%|          | 0/100 [00:00<?, ?it/s]"
      ]
     },
     "metadata": {},
     "output_type": "display_data"
    },
    {
     "data": {
      "application/vnd.jupyter.widget-view+json": {
       "model_id": "30ee770534534b978755d213cb00732f",
       "version_major": 2,
       "version_minor": 0
      },
      "text/plain": [
       "game 4:   0%|          | 0/100 [00:00<?, ?it/s]"
      ]
     },
     "metadata": {},
     "output_type": "display_data"
    },
    {
     "data": {
      "application/vnd.jupyter.widget-view+json": {
       "model_id": "30b650c020844faba7cd9ca30827d5b6",
       "version_major": 2,
       "version_minor": 0
      },
      "text/plain": [
       "game 5:   0%|          | 0/100 [00:00<?, ?it/s]"
      ]
     },
     "metadata": {},
     "output_type": "display_data"
    },
    {
     "data": {
      "application/vnd.jupyter.widget-view+json": {
       "model_id": "684a687054194d50b7f96e8e85d217fa",
       "version_major": 2,
       "version_minor": 0
      },
      "text/plain": [
       "game 6:   0%|          | 0/100 [00:00<?, ?it/s]"
      ]
     },
     "metadata": {},
     "output_type": "display_data"
    },
    {
     "data": {
      "application/vnd.jupyter.widget-view+json": {
       "model_id": "48cee31c94244f87a64beab9f0048db6",
       "version_major": 2,
       "version_minor": 0
      },
      "text/plain": [
       "game 7:   0%|          | 0/100 [00:00<?, ?it/s]"
      ]
     },
     "metadata": {},
     "output_type": "display_data"
    },
    {
     "data": {
      "application/vnd.jupyter.widget-view+json": {
       "model_id": "01972bf6c0ee461c840f2af31668592d",
       "version_major": 2,
       "version_minor": 0
      },
      "text/plain": [
       "game 8:   0%|          | 0/100 [00:00<?, ?it/s]"
      ]
     },
     "metadata": {},
     "output_type": "display_data"
    },
    {
     "data": {
      "application/vnd.jupyter.widget-view+json": {
       "model_id": "d50cfe8badbb42628f30d2400256d380",
       "version_major": 2,
       "version_minor": 0
      },
      "text/plain": [
       "game 9:   0%|          | 0/100 [00:00<?, ?it/s]"
      ]
     },
     "metadata": {},
     "output_type": "display_data"
    }
   ],
   "source": [
    "from montecarlo import *\n",
    "state = HighLevelAIGame(Game())\n",
    "mcts = HeuristicEvalMCTS()\n",
    "numIterations = 150\n",
    "def chooseAction(state):\n",
    "    return mcts.chooseAction(state, numIterations=numIterations)\n",
    "heuristicEvalMCTSResults = runExperiment(state, chooseAction, numGames=10)"
   ]
  },
  {
   "cell_type": "code",
   "execution_count": 8,
   "metadata": {
    "collapsed": false,
    "jupyter": {
     "outputs_hidden": false
    },
    "pycharm": {
     "is_executing": true,
     "name": "#%%\n"
    }
   },
   "outputs": [
    {
     "data": {
      "application/vnd.jupyter.widget-view+json": {
       "model_id": "8297f1dc6cdb483aab8adfefe519a2d2",
       "version_major": 2,
       "version_minor": 0
      },
      "text/plain": [
       "games loop:   0%|          | 0/10 [00:00<?, ?it/s]"
      ]
     },
     "metadata": {},
     "output_type": "display_data"
    },
    {
     "data": {
      "application/vnd.jupyter.widget-view+json": {
       "model_id": "b3724c4fc9b148e58d8123e04f2695bd",
       "version_major": 2,
       "version_minor": 0
      },
      "text/plain": [
       "game 0:   0%|          | 0/100 [00:00<?, ?it/s]"
      ]
     },
     "metadata": {},
     "output_type": "display_data"
    },
    {
     "data": {
      "application/vnd.jupyter.widget-view+json": {
       "model_id": "5dede46c16314756a22b85576ccbbfb3",
       "version_major": 2,
       "version_minor": 0
      },
      "text/plain": [
       "game 1:   0%|          | 0/100 [00:00<?, ?it/s]"
      ]
     },
     "metadata": {},
     "output_type": "display_data"
    },
    {
     "data": {
      "application/vnd.jupyter.widget-view+json": {
       "model_id": "27e4552c96214e8da8e0ae7e81d2a05d",
       "version_major": 2,
       "version_minor": 0
      },
      "text/plain": [
       "game 2:   0%|          | 0/100 [00:00<?, ?it/s]"
      ]
     },
     "metadata": {},
     "output_type": "display_data"
    },
    {
     "data": {
      "application/vnd.jupyter.widget-view+json": {
       "model_id": "dfe48944c0f846399641d81933ea5d3c",
       "version_major": 2,
       "version_minor": 0
      },
      "text/plain": [
       "game 3:   0%|          | 0/100 [00:00<?, ?it/s]"
      ]
     },
     "metadata": {},
     "output_type": "display_data"
    },
    {
     "data": {
      "application/vnd.jupyter.widget-view+json": {
       "model_id": "d03c454f9ed84cb195cec29721407194",
       "version_major": 2,
       "version_minor": 0
      },
      "text/plain": [
       "game 4:   0%|          | 0/100 [00:00<?, ?it/s]"
      ]
     },
     "metadata": {},
     "output_type": "display_data"
    },
    {
     "data": {
      "application/vnd.jupyter.widget-view+json": {
       "model_id": "2980a64f0a9a40048711f14bc435d54f",
       "version_major": 2,
       "version_minor": 0
      },
      "text/plain": [
       "game 5:   0%|          | 0/100 [00:00<?, ?it/s]"
      ]
     },
     "metadata": {},
     "output_type": "display_data"
    },
    {
     "data": {
      "application/vnd.jupyter.widget-view+json": {
       "model_id": "b74c597f057640f9bb79814b99afeca3",
       "version_major": 2,
       "version_minor": 0
      },
      "text/plain": [
       "game 6:   0%|          | 0/100 [00:00<?, ?it/s]"
      ]
     },
     "metadata": {},
     "output_type": "display_data"
    },
    {
     "data": {
      "application/vnd.jupyter.widget-view+json": {
       "model_id": "ceb86c453538456e857b5a6b963e394d",
       "version_major": 2,
       "version_minor": 0
      },
      "text/plain": [
       "game 7:   0%|          | 0/100 [00:00<?, ?it/s]"
      ]
     },
     "metadata": {},
     "output_type": "display_data"
    },
    {
     "data": {
      "application/vnd.jupyter.widget-view+json": {
       "model_id": "16010900f43f43e7857903e776fa83e4",
       "version_major": 2,
       "version_minor": 0
      },
      "text/plain": [
       "game 8:   0%|          | 0/100 [00:00<?, ?it/s]"
      ]
     },
     "metadata": {},
     "output_type": "display_data"
    },
    {
     "data": {
      "application/vnd.jupyter.widget-view+json": {
       "model_id": "6caf15eecaee4298ab4f19e628552ea4",
       "version_major": 2,
       "version_minor": 0
      },
      "text/plain": [
       "game 9:   0%|          | 0/100 [00:00<?, ?it/s]"
      ]
     },
     "metadata": {},
     "output_type": "display_data"
    }
   ],
   "source": [
    "from montecarlo import *\n",
    "state = HighLevelAIGame(Game())\n",
    "maxRolloutLength = 20\n",
    "mcts = MCTS(uniformPolicy, maxRolloutLength=maxRolloutLength)\n",
    "numIterations = 150\n",
    "def chooseAction(state):\n",
    "    return mcts.chooseAction(state, numIterations=numIterations)\n",
    "uniformRolloutMCTSResults = runExperiment(state, chooseAction, numGames=10)"
   ]
  },
  {
   "cell_type": "code",
   "execution_count": 27,
   "metadata": {
    "collapsed": false,
    "jupyter": {
     "outputs_hidden": false
    },
    "pycharm": {
     "is_executing": true,
     "name": "#%%\n"
    }
   },
   "outputs": [
    {
     "data": {
      "application/vnd.jupyter.widget-view+json": {
       "model_id": "e49a8a09b37c47429555c3f0d9c009de",
       "version_major": 2,
       "version_minor": 0
      },
      "text/plain": [
       "games loop:   0%|          | 0/5 [00:00<?, ?it/s]"
      ]
     },
     "metadata": {},
     "output_type": "display_data"
    },
    {
     "data": {
      "application/vnd.jupyter.widget-view+json": {
       "model_id": "38c280446dfe4138abfe535a60bff11e",
       "version_major": 2,
       "version_minor": 0
      },
      "text/plain": [
       "game 0:   0%|          | 0/100 [00:00<?, ?it/s]"
      ]
     },
     "metadata": {},
     "output_type": "display_data"
    },
    {
     "data": {
      "application/vnd.jupyter.widget-view+json": {
       "model_id": "0480c3e9217a48adab95583d834f1e90",
       "version_major": 2,
       "version_minor": 0
      },
      "text/plain": [
       "game 1:   0%|          | 0/100 [00:00<?, ?it/s]"
      ]
     },
     "metadata": {},
     "output_type": "display_data"
    },
    {
     "data": {
      "application/vnd.jupyter.widget-view+json": {
       "model_id": "ae7e11fa450242c9bb00ada000298fa2",
       "version_major": 2,
       "version_minor": 0
      },
      "text/plain": [
       "game 2:   0%|          | 0/100 [00:00<?, ?it/s]"
      ]
     },
     "metadata": {},
     "output_type": "display_data"
    },
    {
     "data": {
      "application/vnd.jupyter.widget-view+json": {
       "model_id": "54d3cb5ae1bd453d9329d34a3c17b07c",
       "version_major": 2,
       "version_minor": 0
      },
      "text/plain": [
       "game 3:   0%|          | 0/100 [00:00<?, ?it/s]"
      ]
     },
     "metadata": {},
     "output_type": "display_data"
    },
    {
     "data": {
      "application/vnd.jupyter.widget-view+json": {
       "model_id": "5da5e7a04a35439097f1b13503922101",
       "version_major": 2,
       "version_minor": 0
      },
      "text/plain": [
       "game 4:   0%|          | 0/100 [00:00<?, ?it/s]"
      ]
     },
     "metadata": {},
     "output_type": "display_data"
    }
   ],
   "source": [
    "from montecarlo import *\n",
    "state = HighLevelAIGame(Game())\n",
    "maxRolloutLength = 4\n",
    "mcts = MCTS(greedyHeuristicPolicy, maxRolloutLength=maxRolloutLength)\n",
    "numIterations = 75\n",
    "def chooseAction(state):\n",
    "    return mcts.chooseAction(state, numIterations=numIterations)\n",
    "greedyHeuristicRolloutMCTSResults = runExperiment(state, chooseAction, numGames=5)\n",
    "\n",
    "# too slow"
   ]
  },
  {
   "cell_type": "code",
   "execution_count": 10,
   "metadata": {
    "collapsed": false,
    "jupyter": {
     "outputs_hidden": false
    },
    "pycharm": {
     "is_executing": true,
     "name": "#%%\n"
    }
   },
   "outputs": [
    {
     "data": {
      "application/vnd.jupyter.widget-view+json": {
       "model_id": "bfa36e2f57c145ac84dad9cee687e128",
       "version_major": 2,
       "version_minor": 0
      },
      "text/plain": [
       "games loop:   0%|          | 0/10 [00:00<?, ?it/s]"
      ]
     },
     "metadata": {},
     "output_type": "display_data"
    },
    {
     "data": {
      "application/vnd.jupyter.widget-view+json": {
       "model_id": "3430806425804e41b8b7ebbc71a5d61d",
       "version_major": 2,
       "version_minor": 0
      },
      "text/plain": [
       "game 0:   0%|          | 0/100 [00:00<?, ?it/s]"
      ]
     },
     "metadata": {},
     "output_type": "display_data"
    },
    {
     "data": {
      "application/vnd.jupyter.widget-view+json": {
       "model_id": "63164c0533874681b0dfcfa84d565ee6",
       "version_major": 2,
       "version_minor": 0
      },
      "text/plain": [
       "game 1:   0%|          | 0/100 [00:00<?, ?it/s]"
      ]
     },
     "metadata": {},
     "output_type": "display_data"
    },
    {
     "data": {
      "application/vnd.jupyter.widget-view+json": {
       "model_id": "cbef753096d54745aa73fdd03b90d35b",
       "version_major": 2,
       "version_minor": 0
      },
      "text/plain": [
       "game 2:   0%|          | 0/100 [00:00<?, ?it/s]"
      ]
     },
     "metadata": {},
     "output_type": "display_data"
    },
    {
     "data": {
      "application/vnd.jupyter.widget-view+json": {
       "model_id": "9ba1546589ca497a9ab0bc8c71a55c09",
       "version_major": 2,
       "version_minor": 0
      },
      "text/plain": [
       "game 3:   0%|          | 0/100 [00:00<?, ?it/s]"
      ]
     },
     "metadata": {},
     "output_type": "display_data"
    },
    {
     "data": {
      "application/vnd.jupyter.widget-view+json": {
       "model_id": "bf801cf86943441c954badaae551c2c3",
       "version_major": 2,
       "version_minor": 0
      },
      "text/plain": [
       "game 4:   0%|          | 0/100 [00:00<?, ?it/s]"
      ]
     },
     "metadata": {},
     "output_type": "display_data"
    },
    {
     "data": {
      "application/vnd.jupyter.widget-view+json": {
       "model_id": "e812b4ef600e48c0af7c68655c2c690d",
       "version_major": 2,
       "version_minor": 0
      },
      "text/plain": [
       "game 5:   0%|          | 0/100 [00:00<?, ?it/s]"
      ]
     },
     "metadata": {},
     "output_type": "display_data"
    },
    {
     "data": {
      "application/vnd.jupyter.widget-view+json": {
       "model_id": "37ba156850aa40b7beb9a04d23de7507",
       "version_major": 2,
       "version_minor": 0
      },
      "text/plain": [
       "game 6:   0%|          | 0/100 [00:00<?, ?it/s]"
      ]
     },
     "metadata": {},
     "output_type": "display_data"
    },
    {
     "data": {
      "application/vnd.jupyter.widget-view+json": {
       "model_id": "256cf19b34694bbdaf907693ea607026",
       "version_major": 2,
       "version_minor": 0
      },
      "text/plain": [
       "game 7:   0%|          | 0/100 [00:00<?, ?it/s]"
      ]
     },
     "metadata": {},
     "output_type": "display_data"
    },
    {
     "data": {
      "application/vnd.jupyter.widget-view+json": {
       "model_id": "b0fa361d488c4fe58a0c5b1a7a292cbe",
       "version_major": 2,
       "version_minor": 0
      },
      "text/plain": [
       "game 8:   0%|          | 0/100 [00:00<?, ?it/s]"
      ]
     },
     "metadata": {},
     "output_type": "display_data"
    },
    {
     "data": {
      "application/vnd.jupyter.widget-view+json": {
       "model_id": "3e52c2b0f16c4959862c630f31f39e34",
       "version_major": 2,
       "version_minor": 0
      },
      "text/plain": [
       "game 9:   0%|          | 0/100 [00:00<?, ?it/s]"
      ]
     },
     "metadata": {},
     "output_type": "display_data"
    }
   ],
   "source": [
    "import minimax\n",
    "state = HighLevelAIGame(Game())\n",
    "def chooseAction(state):\n",
    "    return minimax.chooseAction(state, maxDepth=0)\n",
    "minimax0Results = runExperiment(state, chooseAction, numGames=10)"
   ]
  },
  {
   "cell_type": "code",
   "execution_count": 11,
   "metadata": {
    "collapsed": false,
    "jupyter": {
     "outputs_hidden": false
    },
    "pycharm": {
     "is_executing": true,
     "name": "#%%\n"
    }
   },
   "outputs": [
    {
     "data": {
      "application/vnd.jupyter.widget-view+json": {
       "model_id": "2dae81b83d874b92b15d6d5bff4efb36",
       "version_major": 2,
       "version_minor": 0
      },
      "text/plain": [
       "games loop:   0%|          | 0/10 [00:00<?, ?it/s]"
      ]
     },
     "metadata": {},
     "output_type": "display_data"
    },
    {
     "data": {
      "application/vnd.jupyter.widget-view+json": {
       "model_id": "01863fe4dc734aae912b7a80f3b6b743",
       "version_major": 2,
       "version_minor": 0
      },
      "text/plain": [
       "game 0:   0%|          | 0/100 [00:00<?, ?it/s]"
      ]
     },
     "metadata": {},
     "output_type": "display_data"
    },
    {
     "data": {
      "application/vnd.jupyter.widget-view+json": {
       "model_id": "566f90849ca64bfa93dc62c6a6a397bd",
       "version_major": 2,
       "version_minor": 0
      },
      "text/plain": [
       "game 1:   0%|          | 0/100 [00:00<?, ?it/s]"
      ]
     },
     "metadata": {},
     "output_type": "display_data"
    },
    {
     "data": {
      "application/vnd.jupyter.widget-view+json": {
       "model_id": "58499631b94c45dc8d58204f82ecbd8c",
       "version_major": 2,
       "version_minor": 0
      },
      "text/plain": [
       "game 2:   0%|          | 0/100 [00:00<?, ?it/s]"
      ]
     },
     "metadata": {},
     "output_type": "display_data"
    },
    {
     "data": {
      "application/vnd.jupyter.widget-view+json": {
       "model_id": "1576141b7be84649936413e4f76c50f3",
       "version_major": 2,
       "version_minor": 0
      },
      "text/plain": [
       "game 3:   0%|          | 0/100 [00:00<?, ?it/s]"
      ]
     },
     "metadata": {},
     "output_type": "display_data"
    },
    {
     "data": {
      "application/vnd.jupyter.widget-view+json": {
       "model_id": "bff166893f584939becccd2478cfa8b5",
       "version_major": 2,
       "version_minor": 0
      },
      "text/plain": [
       "game 4:   0%|          | 0/100 [00:00<?, ?it/s]"
      ]
     },
     "metadata": {},
     "output_type": "display_data"
    },
    {
     "data": {
      "application/vnd.jupyter.widget-view+json": {
       "model_id": "b2629efcf27e49d39547993c820883fd",
       "version_major": 2,
       "version_minor": 0
      },
      "text/plain": [
       "game 5:   0%|          | 0/100 [00:00<?, ?it/s]"
      ]
     },
     "metadata": {},
     "output_type": "display_data"
    },
    {
     "data": {
      "application/vnd.jupyter.widget-view+json": {
       "model_id": "f97f97d8b7b148f39fd5e17be3b6cdee",
       "version_major": 2,
       "version_minor": 0
      },
      "text/plain": [
       "game 6:   0%|          | 0/100 [00:00<?, ?it/s]"
      ]
     },
     "metadata": {},
     "output_type": "display_data"
    },
    {
     "data": {
      "application/vnd.jupyter.widget-view+json": {
       "model_id": "b49f190aa49d4e9e9c28f70d7183a0be",
       "version_major": 2,
       "version_minor": 0
      },
      "text/plain": [
       "game 7:   0%|          | 0/100 [00:00<?, ?it/s]"
      ]
     },
     "metadata": {},
     "output_type": "display_data"
    },
    {
     "data": {
      "application/vnd.jupyter.widget-view+json": {
       "model_id": "de4b872fcda949708b7830fe274ff33e",
       "version_major": 2,
       "version_minor": 0
      },
      "text/plain": [
       "game 8:   0%|          | 0/100 [00:00<?, ?it/s]"
      ]
     },
     "metadata": {},
     "output_type": "display_data"
    },
    {
     "data": {
      "application/vnd.jupyter.widget-view+json": {
       "model_id": "051ebbd3bd6541a194b0fc7a8c8bc4dd",
       "version_major": 2,
       "version_minor": 0
      },
      "text/plain": [
       "game 9:   0%|          | 0/100 [00:00<?, ?it/s]"
      ]
     },
     "metadata": {},
     "output_type": "display_data"
    }
   ],
   "source": [
    "state = HighLevelAIGame(Game())\n",
    "def chooseAction(state):\n",
    "    return minimax.chooseAction(state, maxDepth=1)\n",
    "minimax1Results = runExperiment(state, chooseAction, numGames=10)"
   ]
  },
  {
   "cell_type": "code",
   "execution_count": 12,
   "metadata": {
    "collapsed": false,
    "jupyter": {
     "outputs_hidden": false
    },
    "pycharm": {
     "is_executing": true,
     "name": "#%%\n"
    }
   },
   "outputs": [
    {
     "data": {
      "application/vnd.jupyter.widget-view+json": {
       "model_id": "3db3dcb7f0f34ca08d319f137d328cb8",
       "version_major": 2,
       "version_minor": 0
      },
      "text/plain": [
       "games loop:   0%|          | 0/10 [00:00<?, ?it/s]"
      ]
     },
     "metadata": {},
     "output_type": "display_data"
    },
    {
     "data": {
      "application/vnd.jupyter.widget-view+json": {
       "model_id": "c04ef5a1d0df46948be0a3bbbf6b98bb",
       "version_major": 2,
       "version_minor": 0
      },
      "text/plain": [
       "game 0:   0%|          | 0/100 [00:00<?, ?it/s]"
      ]
     },
     "metadata": {},
     "output_type": "display_data"
    },
    {
     "data": {
      "application/vnd.jupyter.widget-view+json": {
       "model_id": "88554769260040b68192cdef62e5e994",
       "version_major": 2,
       "version_minor": 0
      },
      "text/plain": [
       "game 1:   0%|          | 0/100 [00:00<?, ?it/s]"
      ]
     },
     "metadata": {},
     "output_type": "display_data"
    },
    {
     "data": {
      "application/vnd.jupyter.widget-view+json": {
       "model_id": "dd7d663e398247b9b06b15aa7327f8c4",
       "version_major": 2,
       "version_minor": 0
      },
      "text/plain": [
       "game 2:   0%|          | 0/100 [00:00<?, ?it/s]"
      ]
     },
     "metadata": {},
     "output_type": "display_data"
    },
    {
     "data": {
      "application/vnd.jupyter.widget-view+json": {
       "model_id": "15f9e95379c94bbd88e81f79da752af5",
       "version_major": 2,
       "version_minor": 0
      },
      "text/plain": [
       "game 3:   0%|          | 0/100 [00:00<?, ?it/s]"
      ]
     },
     "metadata": {},
     "output_type": "display_data"
    },
    {
     "data": {
      "application/vnd.jupyter.widget-view+json": {
       "model_id": "1ebccc912f924a588fd1576f73adb1a5",
       "version_major": 2,
       "version_minor": 0
      },
      "text/plain": [
       "game 4:   0%|          | 0/100 [00:00<?, ?it/s]"
      ]
     },
     "metadata": {},
     "output_type": "display_data"
    },
    {
     "data": {
      "application/vnd.jupyter.widget-view+json": {
       "model_id": "28a31948b6ed4ecba059a5afe47af817",
       "version_major": 2,
       "version_minor": 0
      },
      "text/plain": [
       "game 5:   0%|          | 0/100 [00:00<?, ?it/s]"
      ]
     },
     "metadata": {},
     "output_type": "display_data"
    },
    {
     "data": {
      "application/vnd.jupyter.widget-view+json": {
       "model_id": "1598fbe439b34870a8c1cebd78d72eda",
       "version_major": 2,
       "version_minor": 0
      },
      "text/plain": [
       "game 6:   0%|          | 0/100 [00:00<?, ?it/s]"
      ]
     },
     "metadata": {},
     "output_type": "display_data"
    },
    {
     "data": {
      "application/vnd.jupyter.widget-view+json": {
       "model_id": "395b9d5f34654a06b5b12f7a9df13452",
       "version_major": 2,
       "version_minor": 0
      },
      "text/plain": [
       "game 7:   0%|          | 0/100 [00:00<?, ?it/s]"
      ]
     },
     "metadata": {},
     "output_type": "display_data"
    },
    {
     "data": {
      "application/vnd.jupyter.widget-view+json": {
       "model_id": "3ea94c52350b4d1d8d44fe3fe349ccc0",
       "version_major": 2,
       "version_minor": 0
      },
      "text/plain": [
       "game 8:   0%|          | 0/100 [00:00<?, ?it/s]"
      ]
     },
     "metadata": {},
     "output_type": "display_data"
    },
    {
     "data": {
      "application/vnd.jupyter.widget-view+json": {
       "model_id": "02794ab894cd4b3785c05efd5fe8bf16",
       "version_major": 2,
       "version_minor": 0
      },
      "text/plain": [
       "game 9:   0%|          | 0/100 [00:00<?, ?it/s]"
      ]
     },
     "metadata": {},
     "output_type": "display_data"
    }
   ],
   "source": [
    "state = HighLevelAIGame(Game())\n",
    "def chooseAction(state):\n",
    "    return random.choice(state.getLegalActions())\n",
    "randomResults = runExperiment(state, chooseAction, numGames=10)"
   ]
  },
  {
   "cell_type": "code",
   "execution_count": 28,
   "metadata": {
    "collapsed": false,
    "jupyter": {
     "outputs_hidden": false
    },
    "pycharm": {
     "is_executing": true,
     "name": "#%%\n"
    }
   },
   "outputs": [
    {
     "data": {
      "image/png": "[encoded data removed]",
      "text/plain": [
       "<Figure size 864x576 with 1 Axes>"
      ]
     },
     "metadata": {
      "needs_background": "light"
     },
     "output_type": "display_data"
    }
   ],
   "source": [
    "def scores(results):\n",
    "    results = rectangularize(results)\n",
    "    return np.array([[state.score() for state in states] for states in results])\n",
    "\n",
    "def rectangularize(lol):\n",
    "    \"\"\"takes in a list of lists and pads short lists with its last element until they're all equal length\"\"\"\n",
    "    lengths = [len(l) for l in lol]\n",
    "    max_length = max(lengths)\n",
    "    padded = [l + [l[-1]]*(max_length - len(l)) for l in lol]\n",
    "    return padded\n",
    "\n",
    "plot_curves([scores(scoreEvalMCTSResults),\n",
    "             scores(heuristicEvalMCTSResults),\n",
    "             scores(uniformRolloutMCTSResults),\n",
    "             scores(greedyHeuristicRolloutMCTSResults),\n",
    "             scores(minimax0Results),\n",
    "             scores(minimax1Results),\n",
    "             scores(randomResults)],\n",
    "            [\"Score Evaluation MCTS\",\n",
    "             \"Heuristic Evaluation MCTS\",\n",
    "             \"Uniform Rollout MCTS\",\n",
    "             \"Greedy Heuristic Rollout MCTS\",\n",
    "             \"Greedy Heuristic Policy\",\n",
    "             \"Heuristic Minimax (depth=2)\",\n",
    "             \"Uniform Policy\"],\n",
    "            [\"red\",\n",
    "             \"orange\",\n",
    "             \"yellow\",\n",
    "             \"green\",\n",
    "             \"blue\",\n",
    "             \"purple\",\n",
    "             \"black\"],\n",
    "            \"Score\",\n",
    "            \"Score over time for high level action formulation\")"
   ]
  },
  {
   "cell_type": "code",
   "execution_count": null,
   "metadata": {},
   "outputs": [],
   "source": []
  }
 ],
 "metadata": {
  "kernelspec": {
   "display_name": "Python 3 (ipykernel)",
   "language": "python",
   "name": "python3"
  },
  "language_info": {
   "codemirror_mode": {
    "name": "ipython",
    "version": 3
   },
   "file_extension": ".py",
   "mimetype": "text/x-python",
   "name": "python",
   "nbconvert_exporter": "python",
   "pygments_lexer": "ipython3",
   "version": "3.8.0"
  }
 },
 "nbformat": 4,
 "nbformat_minor": 4
}
