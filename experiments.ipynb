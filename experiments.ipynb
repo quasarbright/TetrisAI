{
 "cells": [
  {
   "cell_type": "code",
   "execution_count": 49,
   "metadata": {
    "pycharm": {
     "name": "#%%\n"
    },
    "tags": []
   },
   "outputs": [],
   "source": [
    "from aiGame import HighLevelAIGame, AIGame\n",
    "from game import Game\n",
    "from tqdm.auto import trange\n",
    "import matplotlib.pyplot as plt\n",
    "import numpy as np"
   ]
  },
  {
   "cell_type": "code",
   "execution_count": 4,
   "metadata": {
    "collapsed": false,
    "jupyter": {
     "outputs_hidden": false
    },
    "pycharm": {
     "name": "#%%\n"
    }
   },
   "outputs": [],
   "source": [
    "# copied from RL hw starter code\n",
    "def plot_curves(arr_list, legend_list, color_list, ylabel, fig_title):\n",
    "    \"\"\"\n",
    "    Args:\n",
    "        arr_list (list): list of results arrays to plot\n",
    "        legend_list (list): list of legends corresponding to each result array\n",
    "        color_list (list): list of color corresponding to each result array\n",
    "        ylabel (string): label of the Y axis\n",
    "\n",
    "        Note that, make sure the elements in the arr_list, legend_list and color_list are associated with each other correctly.\n",
    "        Do not forget to change the ylabel for different plots.\n",
    "    \"\"\"\n",
    "    # set the figure type\n",
    "    fig, ax = plt.subplots(figsize=(12, 8))\n",
    "\n",
    "    # PLEASE NOTE: Change the labels for different plots\n",
    "    ax.set_ylabel(ylabel)\n",
    "    ax.set_xlabel(\"Time Steps\")\n",
    "\n",
    "    # ploth results\n",
    "    h_list = []\n",
    "    for arr, legend, color in zip(arr_list, legend_list, color_list):\n",
    "        # compute the standard error\n",
    "        arr_err = arr.std(axis=0) / np.sqrt(arr.shape[0])\n",
    "        # plot the mean\n",
    "        h, = ax.plot(range(arr.shape[1]), arr.mean(axis=0), color=color, label=legend)\n",
    "        # plot the confidence band\n",
    "        arr_err *= 1.96\n",
    "        ax.fill_between(range(arr.shape[1]), arr.mean(axis=0) - arr_err, arr.mean(axis=0) + arr_err, alpha=0.3,\n",
    "                        color=color)\n",
    "        # save the plot handle\n",
    "        h_list.append(h)\n",
    "\n",
    "    # plot legends\n",
    "    ax.set_title(f\"{fig_title}\")\n",
    "    ax.legend(handles=h_list)\n",
    "\n",
    "    plt.show()"
   ]
  },
  {
   "cell_type": "code",
   "execution_count": 5,
   "metadata": {
    "collapsed": false,
    "jupyter": {
     "outputs_hidden": false
    },
    "pycharm": {
     "name": "#%%\n"
    }
   },
   "outputs": [],
   "source": [
    "def runExperiment(initialState: 'AIGame', chooseAction, numTimesteps=100, numGames=10):\n",
    "    \"\"\"Run a game with the given policy,\n",
    "    cut off after numTimesteps time steps.\n",
    "    Run numGames games.\n",
    "    Return list of list of states (each game's history)\"\"\"\n",
    "    statess = []\n",
    "    for game in trange(numGames, desc=\"games loop\"):\n",
    "        state = initialState.copy()\n",
    "        states = [state.copy()]\n",
    "        for t in trange(numTimesteps, desc=f'game {game}'):\n",
    "            if state.isDead():\n",
    "                break\n",
    "            action = chooseAction(state)\n",
    "            state = state.move(action)\n",
    "            states.append(state)\n",
    "        statess.append(states)\n",
    "    return statess"
   ]
  },
  {
   "cell_type": "code",
   "execution_count": 6,
   "metadata": {
    "collapsed": false,
    "jupyter": {
     "outputs_hidden": false
    },
    "pycharm": {
     "name": "#%%\n"
    }
   },
   "outputs": [
    {
     "data": {
      "application/vnd.jupyter.widget-view+json": {
       "model_id": "447f658f1a2a49b9abdfe6bd9ef8d7e8",
       "version_major": 2,
       "version_minor": 0
      },
      "text/plain": [
       "games loop:   0%|          | 0/10 [00:00<?, ?it/s]"
      ]
     },
     "metadata": {},
     "output_type": "display_data"
    },
    {
     "data": {
      "application/vnd.jupyter.widget-view+json": {
       "model_id": "8dbdd4c11977453aaebb9922a52f6de2",
       "version_major": 2,
       "version_minor": 0
      },
      "text/plain": [
       "game 0:   0%|          | 0/100 [00:00<?, ?it/s]"
      ]
     },
     "metadata": {},
     "output_type": "display_data"
    },
    {
     "data": {
      "application/vnd.jupyter.widget-view+json": {
       "model_id": "d0edd70c7eb945f79905906c06eb8ec6",
       "version_major": 2,
       "version_minor": 0
      },
      "text/plain": [
       "game 1:   0%|          | 0/100 [00:00<?, ?it/s]"
      ]
     },
     "metadata": {},
     "output_type": "display_data"
    },
    {
     "data": {
      "application/vnd.jupyter.widget-view+json": {
       "model_id": "2a3fbaf29eca4568910194c9ab758422",
       "version_major": 2,
       "version_minor": 0
      },
      "text/plain": [
       "game 2:   0%|          | 0/100 [00:00<?, ?it/s]"
      ]
     },
     "metadata": {},
     "output_type": "display_data"
    },
    {
     "data": {
      "application/vnd.jupyter.widget-view+json": {
       "model_id": "9d8c65e1a20140ee873fcf3b1fdb55f3",
       "version_major": 2,
       "version_minor": 0
      },
      "text/plain": [
       "game 3:   0%|          | 0/100 [00:00<?, ?it/s]"
      ]
     },
     "metadata": {},
     "output_type": "display_data"
    },
    {
     "data": {
      "application/vnd.jupyter.widget-view+json": {
       "model_id": "14e820c1c135439a8382752985bd8d0c",
       "version_major": 2,
       "version_minor": 0
      },
      "text/plain": [
       "game 4:   0%|          | 0/100 [00:00<?, ?it/s]"
      ]
     },
     "metadata": {},
     "output_type": "display_data"
    },
    {
     "data": {
      "application/vnd.jupyter.widget-view+json": {
       "model_id": "467141418ddd4f11a50b6f17a45c4218",
       "version_major": 2,
       "version_minor": 0
      },
      "text/plain": [
       "game 5:   0%|          | 0/100 [00:00<?, ?it/s]"
      ]
     },
     "metadata": {},
     "output_type": "display_data"
    },
    {
     "data": {
      "application/vnd.jupyter.widget-view+json": {
       "model_id": "4670c96996574e0780c5ccbb665de49b",
       "version_major": 2,
       "version_minor": 0
      },
      "text/plain": [
       "game 6:   0%|          | 0/100 [00:00<?, ?it/s]"
      ]
     },
     "metadata": {},
     "output_type": "display_data"
    },
    {
     "data": {
      "application/vnd.jupyter.widget-view+json": {
       "model_id": "f61646fae24846b98110bc43ec795ac7",
       "version_major": 2,
       "version_minor": 0
      },
      "text/plain": [
       "game 7:   0%|          | 0/100 [00:00<?, ?it/s]"
      ]
     },
     "metadata": {},
     "output_type": "display_data"
    },
    {
     "data": {
      "application/vnd.jupyter.widget-view+json": {
       "model_id": "e30425cc9bc145d9a50f4602937129df",
       "version_major": 2,
       "version_minor": 0
      },
      "text/plain": [
       "game 8:   0%|          | 0/100 [00:00<?, ?it/s]"
      ]
     },
     "metadata": {},
     "output_type": "display_data"
    },
    {
     "data": {
      "application/vnd.jupyter.widget-view+json": {
       "model_id": "e88259409eab439e9a7dbdbc0b26185b",
       "version_major": 2,
       "version_minor": 0
      },
      "text/plain": [
       "game 9:   0%|          | 0/100 [00:00<?, ?it/s]"
      ]
     },
     "metadata": {},
     "output_type": "display_data"
    }
   ],
   "source": [
    "from montecarlo import *\n",
    "state = HighLevelAIGame(Game())\n",
    "mcts = ScoreEvalMCTS()\n",
    "numIterations = 150\n",
    "def chooseAction(state):\n",
    "    return mcts.chooseAction(state, numIterations=numIterations)\n",
    "scoreEvalMCTSResults = runExperiment(state, chooseAction, numGames=10)"
   ]
  },
  {
   "cell_type": "code",
   "execution_count": 7,
   "metadata": {
    "collapsed": false,
    "jupyter": {
     "outputs_hidden": false
    },
    "pycharm": {
     "is_executing": true,
     "name": "#%%\n"
    }
   },
   "outputs": [
    {
     "data": {
      "application/vnd.jupyter.widget-view+json": {
       "model_id": "7a010fc7c769419ea12bb90c04015447",
       "version_major": 2,
       "version_minor": 0
      },
      "text/plain": [
       "games loop:   0%|          | 0/10 [00:00<?, ?it/s]"
      ]
     },
     "metadata": {},
     "output_type": "display_data"
    },
    {
     "data": {
      "application/vnd.jupyter.widget-view+json": {
       "model_id": "6022dd5d59564bb395f836fc836f0a74",
       "version_major": 2,
       "version_minor": 0
      },
      "text/plain": [
       "game 0:   0%|          | 0/100 [00:00<?, ?it/s]"
      ]
     },
     "metadata": {},
     "output_type": "display_data"
    },
    {
     "data": {
      "application/vnd.jupyter.widget-view+json": {
       "model_id": "a5bb86ed98c14b0f96a15cddd15d034d",
       "version_major": 2,
       "version_minor": 0
      },
      "text/plain": [
       "game 1:   0%|          | 0/100 [00:00<?, ?it/s]"
      ]
     },
     "metadata": {},
     "output_type": "display_data"
    },
    {
     "data": {
      "application/vnd.jupyter.widget-view+json": {
       "model_id": "0f8ce5f4e55849989ef02960daae1d44",
       "version_major": 2,
       "version_minor": 0
      },
      "text/plain": [
       "game 2:   0%|          | 0/100 [00:00<?, ?it/s]"
      ]
     },
     "metadata": {},
     "output_type": "display_data"
    },
    {
     "data": {
      "application/vnd.jupyter.widget-view+json": {
       "model_id": "53098f30ee1c4ae6a37d4851230d1cfa",
       "version_major": 2,
       "version_minor": 0
      },
      "text/plain": [
       "game 3:   0%|          | 0/100 [00:00<?, ?it/s]"
      ]
     },
     "metadata": {},
     "output_type": "display_data"
    },
    {
     "data": {
      "application/vnd.jupyter.widget-view+json": {
       "model_id": "30ee770534534b978755d213cb00732f",
       "version_major": 2,
       "version_minor": 0
      },
      "text/plain": [
       "game 4:   0%|          | 0/100 [00:00<?, ?it/s]"
      ]
     },
     "metadata": {},
     "output_type": "display_data"
    },
    {
     "data": {
      "application/vnd.jupyter.widget-view+json": {
       "model_id": "30b650c020844faba7cd9ca30827d5b6",
       "version_major": 2,
       "version_minor": 0
      },
      "text/plain": [
       "game 5:   0%|          | 0/100 [00:00<?, ?it/s]"
      ]
     },
     "metadata": {},
     "output_type": "display_data"
    },
    {
     "data": {
      "application/vnd.jupyter.widget-view+json": {
       "model_id": "684a687054194d50b7f96e8e85d217fa",
       "version_major": 2,
       "version_minor": 0
      },
      "text/plain": [
       "game 6:   0%|          | 0/100 [00:00<?, ?it/s]"
      ]
     },
     "metadata": {},
     "output_type": "display_data"
    },
    {
     "data": {
      "application/vnd.jupyter.widget-view+json": {
       "model_id": "48cee31c94244f87a64beab9f0048db6",
       "version_major": 2,
       "version_minor": 0
      },
      "text/plain": [
       "game 7:   0%|          | 0/100 [00:00<?, ?it/s]"
      ]
     },
     "metadata": {},
     "output_type": "display_data"
    },
    {
     "data": {
      "application/vnd.jupyter.widget-view+json": {
       "model_id": "01972bf6c0ee461c840f2af31668592d",
       "version_major": 2,
       "version_minor": 0
      },
      "text/plain": [
       "game 8:   0%|          | 0/100 [00:00<?, ?it/s]"
      ]
     },
     "metadata": {},
     "output_type": "display_data"
    },
    {
     "data": {
      "application/vnd.jupyter.widget-view+json": {
       "model_id": "d50cfe8badbb42628f30d2400256d380",
       "version_major": 2,
       "version_minor": 0
      },
      "text/plain": [
       "game 9:   0%|          | 0/100 [00:00<?, ?it/s]"
      ]
     },
     "metadata": {},
     "output_type": "display_data"
    }
   ],
   "source": [
    "from montecarlo import *\n",
    "state = HighLevelAIGame(Game())\n",
    "mcts = HeuristicEvalMCTS()\n",
    "numIterations = 150\n",
    "def chooseAction(state):\n",
    "    return mcts.chooseAction(state, numIterations=numIterations)\n",
    "heuristicEvalMCTSResults = runExperiment(state, chooseAction, numGames=10)"
   ]
  },
  {
   "cell_type": "code",
   "execution_count": 8,
   "metadata": {
    "collapsed": false,
    "jupyter": {
     "outputs_hidden": false
    },
    "pycharm": {
     "is_executing": true,
     "name": "#%%\n"
    }
   },
   "outputs": [
    {
     "data": {
      "application/vnd.jupyter.widget-view+json": {
       "model_id": "8297f1dc6cdb483aab8adfefe519a2d2",
       "version_major": 2,
       "version_minor": 0
      },
      "text/plain": [
       "games loop:   0%|          | 0/10 [00:00<?, ?it/s]"
      ]
     },
     "metadata": {},
     "output_type": "display_data"
    },
    {
     "data": {
      "application/vnd.jupyter.widget-view+json": {
       "model_id": "b3724c4fc9b148e58d8123e04f2695bd",
       "version_major": 2,
       "version_minor": 0
      },
      "text/plain": [
       "game 0:   0%|          | 0/100 [00:00<?, ?it/s]"
      ]
     },
     "metadata": {},
     "output_type": "display_data"
    },
    {
     "data": {
      "application/vnd.jupyter.widget-view+json": {
       "model_id": "5dede46c16314756a22b85576ccbbfb3",
       "version_major": 2,
       "version_minor": 0
      },
      "text/plain": [
       "game 1:   0%|          | 0/100 [00:00<?, ?it/s]"
      ]
     },
     "metadata": {},
     "output_type": "display_data"
    },
    {
     "data": {
      "application/vnd.jupyter.widget-view+json": {
       "model_id": "27e4552c96214e8da8e0ae7e81d2a05d",
       "version_major": 2,
       "version_minor": 0
      },
      "text/plain": [
       "game 2:   0%|          | 0/100 [00:00<?, ?it/s]"
      ]
     },
     "metadata": {},
     "output_type": "display_data"
    },
    {
     "data": {
      "application/vnd.jupyter.widget-view+json": {
       "model_id": "dfe48944c0f846399641d81933ea5d3c",
       "version_major": 2,
       "version_minor": 0
      },
      "text/plain": [
       "game 3:   0%|          | 0/100 [00:00<?, ?it/s]"
      ]
     },
     "metadata": {},
     "output_type": "display_data"
    },
    {
     "data": {
      "application/vnd.jupyter.widget-view+json": {
       "model_id": "d03c454f9ed84cb195cec29721407194",
       "version_major": 2,
       "version_minor": 0
      },
      "text/plain": [
       "game 4:   0%|          | 0/100 [00:00<?, ?it/s]"
      ]
     },
     "metadata": {},
     "output_type": "display_data"
    },
    {
     "data": {
      "application/vnd.jupyter.widget-view+json": {
       "model_id": "2980a64f0a9a40048711f14bc435d54f",
       "version_major": 2,
       "version_minor": 0
      },
      "text/plain": [
       "game 5:   0%|          | 0/100 [00:00<?, ?it/s]"
      ]
     },
     "metadata": {},
     "output_type": "display_data"
    },
    {
     "data": {
      "application/vnd.jupyter.widget-view+json": {
       "model_id": "b74c597f057640f9bb79814b99afeca3",
       "version_major": 2,
       "version_minor": 0
      },
      "text/plain": [
       "game 6:   0%|          | 0/100 [00:00<?, ?it/s]"
      ]
     },
     "metadata": {},
     "output_type": "display_data"
    },
    {
     "data": {
      "application/vnd.jupyter.widget-view+json": {
       "model_id": "ceb86c453538456e857b5a6b963e394d",
       "version_major": 2,
       "version_minor": 0
      },
      "text/plain": [
       "game 7:   0%|          | 0/100 [00:00<?, ?it/s]"
      ]
     },
     "metadata": {},
     "output_type": "display_data"
    },
    {
     "data": {
      "application/vnd.jupyter.widget-view+json": {
       "model_id": "16010900f43f43e7857903e776fa83e4",
       "version_major": 2,
       "version_minor": 0
      },
      "text/plain": [
       "game 8:   0%|          | 0/100 [00:00<?, ?it/s]"
      ]
     },
     "metadata": {},
     "output_type": "display_data"
    },
    {
     "data": {
      "application/vnd.jupyter.widget-view+json": {
       "model_id": "6caf15eecaee4298ab4f19e628552ea4",
       "version_major": 2,
       "version_minor": 0
      },
      "text/plain": [
       "game 9:   0%|          | 0/100 [00:00<?, ?it/s]"
      ]
     },
     "metadata": {},
     "output_type": "display_data"
    }
   ],
   "source": [
    "from montecarlo import *\n",
    "state = HighLevelAIGame(Game())\n",
    "maxRolloutLength = 20\n",
    "mcts = MCTS(uniformPolicy, maxRolloutLength=maxRolloutLength)\n",
    "numIterations = 150\n",
    "def chooseAction(state):\n",
    "    return mcts.chooseAction(state, numIterations=numIterations)\n",
    "uniformRolloutMCTSResults = runExperiment(state, chooseAction, numGames=10)"
   ]
  },
  {
   "cell_type": "code",
   "execution_count": 27,
   "metadata": {
    "collapsed": false,
    "jupyter": {
     "outputs_hidden": false
    },
    "pycharm": {
     "is_executing": true,
     "name": "#%%\n"
    }
   },
   "outputs": [
    {
     "data": {
      "application/vnd.jupyter.widget-view+json": {
       "model_id": "e49a8a09b37c47429555c3f0d9c009de",
       "version_major": 2,
       "version_minor": 0
      },
      "text/plain": [
       "games loop:   0%|          | 0/5 [00:00<?, ?it/s]"
      ]
     },
     "metadata": {},
     "output_type": "display_data"
    },
    {
     "data": {
      "application/vnd.jupyter.widget-view+json": {
       "model_id": "38c280446dfe4138abfe535a60bff11e",
       "version_major": 2,
       "version_minor": 0
      },
      "text/plain": [
       "game 0:   0%|          | 0/100 [00:00<?, ?it/s]"
      ]
     },
     "metadata": {},
     "output_type": "display_data"
    },
    {
     "data": {
      "application/vnd.jupyter.widget-view+json": {
       "model_id": "0480c3e9217a48adab95583d834f1e90",
       "version_major": 2,
       "version_minor": 0
      },
      "text/plain": [
       "game 1:   0%|          | 0/100 [00:00<?, ?it/s]"
      ]
     },
     "metadata": {},
     "output_type": "display_data"
    },
    {
     "data": {
      "application/vnd.jupyter.widget-view+json": {
       "model_id": "ae7e11fa450242c9bb00ada000298fa2",
       "version_major": 2,
       "version_minor": 0
      },
      "text/plain": [
       "game 2:   0%|          | 0/100 [00:00<?, ?it/s]"
      ]
     },
     "metadata": {},
     "output_type": "display_data"
    },
    {
     "data": {
      "application/vnd.jupyter.widget-view+json": {
       "model_id": "54d3cb5ae1bd453d9329d34a3c17b07c",
       "version_major": 2,
       "version_minor": 0
      },
      "text/plain": [
       "game 3:   0%|          | 0/100 [00:00<?, ?it/s]"
      ]
     },
     "metadata": {},
     "output_type": "display_data"
    },
    {
     "data": {
      "application/vnd.jupyter.widget-view+json": {
       "model_id": "5da5e7a04a35439097f1b13503922101",
       "version_major": 2,
       "version_minor": 0
      },
      "text/plain": [
       "game 4:   0%|          | 0/100 [00:00<?, ?it/s]"
      ]
     },
     "metadata": {},
     "output_type": "display_data"
    }
   ],
   "source": [
    "from montecarlo import *\n",
    "state = HighLevelAIGame(Game())\n",
    "maxRolloutLength = 4\n",
    "mcts = MCTS(greedyHeuristicPolicy, maxRolloutLength=maxRolloutLength)\n",
    "numIterations = 75\n",
    "def chooseAction(state):\n",
    "    return mcts.chooseAction(state, numIterations=numIterations)\n",
    "greedyHeuristicRolloutMCTSResults = runExperiment(state, chooseAction, numGames=5)\n",
    "\n",
    "# too slow"
   ]
  },
  {
   "cell_type": "code",
   "execution_count": 10,
   "metadata": {
    "collapsed": false,
    "jupyter": {
     "outputs_hidden": false
    },
    "pycharm": {
     "is_executing": true,
     "name": "#%%\n"
    }
   },
   "outputs": [
    {
     "data": {
      "application/vnd.jupyter.widget-view+json": {
       "model_id": "bfa36e2f57c145ac84dad9cee687e128",
       "version_major": 2,
       "version_minor": 0
      },
      "text/plain": [
       "games loop:   0%|          | 0/10 [00:00<?, ?it/s]"
      ]
     },
     "metadata": {},
     "output_type": "display_data"
    },
    {
     "data": {
      "application/vnd.jupyter.widget-view+json": {
       "model_id": "3430806425804e41b8b7ebbc71a5d61d",
       "version_major": 2,
       "version_minor": 0
      },
      "text/plain": [
       "game 0:   0%|          | 0/100 [00:00<?, ?it/s]"
      ]
     },
     "metadata": {},
     "output_type": "display_data"
    },
    {
     "data": {
      "application/vnd.jupyter.widget-view+json": {
       "model_id": "63164c0533874681b0dfcfa84d565ee6",
       "version_major": 2,
       "version_minor": 0
      },
      "text/plain": [
       "game 1:   0%|          | 0/100 [00:00<?, ?it/s]"
      ]
     },
     "metadata": {},
     "output_type": "display_data"
    },
    {
     "data": {
      "application/vnd.jupyter.widget-view+json": {
       "model_id": "cbef753096d54745aa73fdd03b90d35b",
       "version_major": 2,
       "version_minor": 0
      },
      "text/plain": [
       "game 2:   0%|          | 0/100 [00:00<?, ?it/s]"
      ]
     },
     "metadata": {},
     "output_type": "display_data"
    },
    {
     "data": {
      "application/vnd.jupyter.widget-view+json": {
       "model_id": "9ba1546589ca497a9ab0bc8c71a55c09",
       "version_major": 2,
       "version_minor": 0
      },
      "text/plain": [
       "game 3:   0%|          | 0/100 [00:00<?, ?it/s]"
      ]
     },
     "metadata": {},
     "output_type": "display_data"
    },
    {
     "data": {
      "application/vnd.jupyter.widget-view+json": {
       "model_id": "bf801cf86943441c954badaae551c2c3",
       "version_major": 2,
       "version_minor": 0
      },
      "text/plain": [
       "game 4:   0%|          | 0/100 [00:00<?, ?it/s]"
      ]
     },
     "metadata": {},
     "output_type": "display_data"
    },
    {
     "data": {
      "application/vnd.jupyter.widget-view+json": {
       "model_id": "e812b4ef600e48c0af7c68655c2c690d",
       "version_major": 2,
       "version_minor": 0
      },
      "text/plain": [
       "game 5:   0%|          | 0/100 [00:00<?, ?it/s]"
      ]
     },
     "metadata": {},
     "output_type": "display_data"
    },
    {
     "data": {
      "application/vnd.jupyter.widget-view+json": {
       "model_id": "37ba156850aa40b7beb9a04d23de7507",
       "version_major": 2,
       "version_minor": 0
      },
      "text/plain": [
       "game 6:   0%|          | 0/100 [00:00<?, ?it/s]"
      ]
     },
     "metadata": {},
     "output_type": "display_data"
    },
    {
     "data": {
      "application/vnd.jupyter.widget-view+json": {
       "model_id": "256cf19b34694bbdaf907693ea607026",
       "version_major": 2,
       "version_minor": 0
      },
      "text/plain": [
       "game 7:   0%|          | 0/100 [00:00<?, ?it/s]"
      ]
     },
     "metadata": {},
     "output_type": "display_data"
    },
    {
     "data": {
      "application/vnd.jupyter.widget-view+json": {
       "model_id": "b0fa361d488c4fe58a0c5b1a7a292cbe",
       "version_major": 2,
       "version_minor": 0
      },
      "text/plain": [
       "game 8:   0%|          | 0/100 [00:00<?, ?it/s]"
      ]
     },
     "metadata": {},
     "output_type": "display_data"
    },
    {
     "data": {
      "application/vnd.jupyter.widget-view+json": {
       "model_id": "3e52c2b0f16c4959862c630f31f39e34",
       "version_major": 2,
       "version_minor": 0
      },
      "text/plain": [
       "game 9:   0%|          | 0/100 [00:00<?, ?it/s]"
      ]
     },
     "metadata": {},
     "output_type": "display_data"
    }
   ],
   "source": [
    "import minimax\n",
    "state = HighLevelAIGame(Game())\n",
    "def chooseAction(state):\n",
    "    return minimax.chooseAction(state, maxDepth=0)\n",
    "minimax0Results = runExperiment(state, chooseAction, numGames=10)"
   ]
  },
  {
   "cell_type": "code",
   "execution_count": 11,
   "metadata": {
    "collapsed": false,
    "jupyter": {
     "outputs_hidden": false
    },
    "pycharm": {
     "is_executing": true,
     "name": "#%%\n"
    }
   },
   "outputs": [
    {
     "data": {
      "application/vnd.jupyter.widget-view+json": {
       "model_id": "2dae81b83d874b92b15d6d5bff4efb36",
       "version_major": 2,
       "version_minor": 0
      },
      "text/plain": [
       "games loop:   0%|          | 0/10 [00:00<?, ?it/s]"
      ]
     },
     "metadata": {},
     "output_type": "display_data"
    },
    {
     "data": {
      "application/vnd.jupyter.widget-view+json": {
       "model_id": "01863fe4dc734aae912b7a80f3b6b743",
       "version_major": 2,
       "version_minor": 0
      },
      "text/plain": [
       "game 0:   0%|          | 0/100 [00:00<?, ?it/s]"
      ]
     },
     "metadata": {},
     "output_type": "display_data"
    },
    {
     "data": {
      "application/vnd.jupyter.widget-view+json": {
       "model_id": "566f90849ca64bfa93dc62c6a6a397bd",
       "version_major": 2,
       "version_minor": 0
      },
      "text/plain": [
       "game 1:   0%|          | 0/100 [00:00<?, ?it/s]"
      ]
     },
     "metadata": {},
     "output_type": "display_data"
    },
    {
     "data": {
      "application/vnd.jupyter.widget-view+json": {
       "model_id": "58499631b94c45dc8d58204f82ecbd8c",
       "version_major": 2,
       "version_minor": 0
      },
      "text/plain": [
       "game 2:   0%|          | 0/100 [00:00<?, ?it/s]"
      ]
     },
     "metadata": {},
     "output_type": "display_data"
    },
    {
     "data": {
      "application/vnd.jupyter.widget-view+json": {
       "model_id": "1576141b7be84649936413e4f76c50f3",
       "version_major": 2,
       "version_minor": 0
      },
      "text/plain": [
       "game 3:   0%|          | 0/100 [00:00<?, ?it/s]"
      ]
     },
     "metadata": {},
     "output_type": "display_data"
    },
    {
     "data": {
      "application/vnd.jupyter.widget-view+json": {
       "model_id": "bff166893f584939becccd2478cfa8b5",
       "version_major": 2,
       "version_minor": 0
      },
      "text/plain": [
       "game 4:   0%|          | 0/100 [00:00<?, ?it/s]"
      ]
     },
     "metadata": {},
     "output_type": "display_data"
    },
    {
     "data": {
      "application/vnd.jupyter.widget-view+json": {
       "model_id": "b2629efcf27e49d39547993c820883fd",
       "version_major": 2,
       "version_minor": 0
      },
      "text/plain": [
       "game 5:   0%|          | 0/100 [00:00<?, ?it/s]"
      ]
     },
     "metadata": {},
     "output_type": "display_data"
    },
    {
     "data": {
      "application/vnd.jupyter.widget-view+json": {
       "model_id": "f97f97d8b7b148f39fd5e17be3b6cdee",
       "version_major": 2,
       "version_minor": 0
      },
      "text/plain": [
       "game 6:   0%|          | 0/100 [00:00<?, ?it/s]"
      ]
     },
     "metadata": {},
     "output_type": "display_data"
    },
    {
     "data": {
      "application/vnd.jupyter.widget-view+json": {
       "model_id": "b49f190aa49d4e9e9c28f70d7183a0be",
       "version_major": 2,
       "version_minor": 0
      },
      "text/plain": [
       "game 7:   0%|          | 0/100 [00:00<?, ?it/s]"
      ]
     },
     "metadata": {},
     "output_type": "display_data"
    },
    {
     "data": {
      "application/vnd.jupyter.widget-view+json": {
       "model_id": "de4b872fcda949708b7830fe274ff33e",
       "version_major": 2,
       "version_minor": 0
      },
      "text/plain": [
       "game 8:   0%|          | 0/100 [00:00<?, ?it/s]"
      ]
     },
     "metadata": {},
     "output_type": "display_data"
    },
    {
     "data": {
      "application/vnd.jupyter.widget-view+json": {
       "model_id": "051ebbd3bd6541a194b0fc7a8c8bc4dd",
       "version_major": 2,
       "version_minor": 0
      },
      "text/plain": [
       "game 9:   0%|          | 0/100 [00:00<?, ?it/s]"
      ]
     },
     "metadata": {},
     "output_type": "display_data"
    }
   ],
   "source": [
    "state = HighLevelAIGame(Game())\n",
    "def chooseAction(state):\n",
    "    return minimax.chooseAction(state, maxDepth=1)\n",
    "minimax1Results = runExperiment(state, chooseAction, numGames=10)"
   ]
  },
  {
   "cell_type": "code",
   "execution_count": 12,
   "metadata": {
    "collapsed": false,
    "jupyter": {
     "outputs_hidden": false
    },
    "pycharm": {
     "is_executing": true,
     "name": "#%%\n"
    }
   },
   "outputs": [
    {
     "data": {
      "application/vnd.jupyter.widget-view+json": {
       "model_id": "3db3dcb7f0f34ca08d319f137d328cb8",
       "version_major": 2,
       "version_minor": 0
      },
      "text/plain": [
       "games loop:   0%|          | 0/10 [00:00<?, ?it/s]"
      ]
     },
     "metadata": {},
     "output_type": "display_data"
    },
    {
     "data": {
      "application/vnd.jupyter.widget-view+json": {
       "model_id": "c04ef5a1d0df46948be0a3bbbf6b98bb",
       "version_major": 2,
       "version_minor": 0
      },
      "text/plain": [
       "game 0:   0%|          | 0/100 [00:00<?, ?it/s]"
      ]
     },
     "metadata": {},
     "output_type": "display_data"
    },
    {
     "data": {
      "application/vnd.jupyter.widget-view+json": {
       "model_id": "88554769260040b68192cdef62e5e994",
       "version_major": 2,
       "version_minor": 0
      },
      "text/plain": [
       "game 1:   0%|          | 0/100 [00:00<?, ?it/s]"
      ]
     },
     "metadata": {},
     "output_type": "display_data"
    },
    {
     "data": {
      "application/vnd.jupyter.widget-view+json": {
       "model_id": "dd7d663e398247b9b06b15aa7327f8c4",
       "version_major": 2,
       "version_minor": 0
      },
      "text/plain": [
       "game 2:   0%|          | 0/100 [00:00<?, ?it/s]"
      ]
     },
     "metadata": {},
     "output_type": "display_data"
    },
    {
     "data": {
      "application/vnd.jupyter.widget-view+json": {
       "model_id": "15f9e95379c94bbd88e81f79da752af5",
       "version_major": 2,
       "version_minor": 0
      },
      "text/plain": [
       "game 3:   0%|          | 0/100 [00:00<?, ?it/s]"
      ]
     },
     "metadata": {},
     "output_type": "display_data"
    },
    {
     "data": {
      "application/vnd.jupyter.widget-view+json": {
       "model_id": "1ebccc912f924a588fd1576f73adb1a5",
       "version_major": 2,
       "version_minor": 0
      },
      "text/plain": [
       "game 4:   0%|          | 0/100 [00:00<?, ?it/s]"
      ]
     },
     "metadata": {},
     "output_type": "display_data"
    },
    {
     "data": {
      "application/vnd.jupyter.widget-view+json": {
       "model_id": "28a31948b6ed4ecba059a5afe47af817",
       "version_major": 2,
       "version_minor": 0
      },
      "text/plain": [
       "game 5:   0%|          | 0/100 [00:00<?, ?it/s]"
      ]
     },
     "metadata": {},
     "output_type": "display_data"
    },
    {
     "data": {
      "application/vnd.jupyter.widget-view+json": {
       "model_id": "1598fbe439b34870a8c1cebd78d72eda",
       "version_major": 2,
       "version_minor": 0
      },
      "text/plain": [
       "game 6:   0%|          | 0/100 [00:00<?, ?it/s]"
      ]
     },
     "metadata": {},
     "output_type": "display_data"
    },
    {
     "data": {
      "application/vnd.jupyter.widget-view+json": {
       "model_id": "395b9d5f34654a06b5b12f7a9df13452",
       "version_major": 2,
       "version_minor": 0
      },
      "text/plain": [
       "game 7:   0%|          | 0/100 [00:00<?, ?it/s]"
      ]
     },
     "metadata": {},
     "output_type": "display_data"
    },
    {
     "data": {
      "application/vnd.jupyter.widget-view+json": {
       "model_id": "3ea94c52350b4d1d8d44fe3fe349ccc0",
       "version_major": 2,
       "version_minor": 0
      },
      "text/plain": [
       "game 8:   0%|          | 0/100 [00:00<?, ?it/s]"
      ]
     },
     "metadata": {},
     "output_type": "display_data"
    },
    {
     "data": {
      "application/vnd.jupyter.widget-view+json": {
       "model_id": "02794ab894cd4b3785c05efd5fe8bf16",
       "version_major": 2,
       "version_minor": 0
      },
      "text/plain": [
       "game 9:   0%|          | 0/100 [00:00<?, ?it/s]"
      ]
     },
     "metadata": {},
     "output_type": "display_data"
    }
   ],
   "source": [
    "state = HighLevelAIGame(Game())\n",
    "def chooseAction(state):\n",
    "    return random.choice(state.getLegalActions())\n",
    "randomResults = runExperiment(state, chooseAction, numGames=10)"
   ]
  },
  {
   "cell_type": "code",
   "execution_count": 28,
   "metadata": {
    "collapsed": false,
    "jupyter": {
     "outputs_hidden": false
    },
    "pycharm": {
     "is_executing": true,
     "name": "#%%\n"
    }
   },
   "outputs": [
    {
     "data": {
      "image/png": "[encoded data removed]",
      "text/plain": [
       "<Figure size 864x576 with 1 Axes>"
      ]
     },
     "metadata": {
      "needs_background": "light"
     },
     "output_type": "display_data"
    }
   ],
   "source": [
    "def scores(results):\n",
    "    results = rectangularize(results)\n",
    "    return np.array([[state.score() for state in states] for states in results])\n",
    "\n",
    "def rectangularize(lol):\n",
    "    \"\"\"takes in a list of lists and pads short lists with its last element until they're all equal length\"\"\"\n",
    "    lengths = [len(l) for l in lol]\n",
    "    max_length = max(lengths)\n",
    "    padded = [l + [l[-1]]*(max_length - len(l)) for l in lol]\n",
    "    return padded\n",
    "\n",
    "plot_curves([scores(scoreEvalMCTSResults),\n",
    "             scores(heuristicEvalMCTSResults),\n",
    "             scores(uniformRolloutMCTSResults),\n",
    "             scores(greedyHeuristicRolloutMCTSResults),\n",
    "             scores(minimax0Results),\n",
    "             scores(minimax1Results),\n",
    "             scores(randomResults)],\n",
    "            [\"Score Evaluation MCTS\",\n",
    "             \"Heuristic Evaluation MCTS\",\n",
    "             \"Uniform Rollout MCTS\",\n",
    "             \"Greedy Heuristic Rollout MCTS\",\n",
    "             \"Greedy Heuristic Policy\",\n",
    "             \"Heuristic Minimax (depth=2)\",\n",
    "             \"Uniform Policy\"],\n",
    "            [\"red\",\n",
    "             \"orange\",\n",
    "             \"yellow\",\n",
    "             \"green\",\n",
    "             \"blue\",\n",
    "             \"purple\",\n",
    "             \"black\"],\n",
    "            \"Score\",\n",
    "            \"Score over time for high level action formulation\")"
   ]
  },
  {
   "cell_type": "code",
   "execution_count": 45,
   "metadata": {},
   "outputs": [],
   "source": [
    "def runLowLevelExperiment(initialState: 'AIGame', chooseAction, numPieces=100, maxNumTimesteps=1000,numGames=10):\n",
    "    \"\"\"Run a game with the given policy,\n",
    "    cut off after numTimesteps time steps.\n",
    "    Run numGames games.\n",
    "    Return list of list of states (each game's history)\"\"\"\n",
    "    statess = []\n",
    "    for game in trange(numGames, desc=\"games loop\"):\n",
    "        state = initialState.copy()\n",
    "        states = [state.copy()]\n",
    "        pieceCount = 0\n",
    "        bag = state.game.bag[:]\n",
    "        for t in trange(maxNumTimesteps, desc=f'game {game}'):\n",
    "            if state.isDead() or pieceCount >= numPieces:\n",
    "                break\n",
    "            action = chooseAction(state)\n",
    "            state = state.move(action)\n",
    "            if bag != state.game.bag:\n",
    "                # bag change => piece was placed\n",
    "                pieceCount += 1\n",
    "                bag = state.game.bag[:]\n",
    "                states.append(state)\n",
    "        statess.append(states)\n",
    "    return statess"
   ]
  },
  {
   "cell_type": "code",
   "execution_count": 37,
   "metadata": {},
   "outputs": [
    {
     "data": {
      "application/vnd.jupyter.widget-view+json": {
       "model_id": "87d9bd1f3ba74f7ea5d732ad706010ae",
       "version_major": 2,
       "version_minor": 0
      },
      "text/plain": [
       "games loop:   0%|          | 0/10 [00:00<?, ?it/s]"
      ]
     },
     "metadata": {},
     "output_type": "display_data"
    },
    {
     "data": {
      "application/vnd.jupyter.widget-view+json": {
       "model_id": "e4f6f10f15e14be38c7b54c95bb6401c",
       "version_major": 2,
       "version_minor": 0
      },
      "text/plain": [
       "game 0:   0%|          | 0/1000 [00:00<?, ?it/s]"
      ]
     },
     "metadata": {},
     "output_type": "display_data"
    },
    {
     "data": {
      "application/vnd.jupyter.widget-view+json": {
       "model_id": "1f8b4e094cc5497086ae29b043821190",
       "version_major": 2,
       "version_minor": 0
      },
      "text/plain": [
       "game 1:   0%|          | 0/1000 [00:00<?, ?it/s]"
      ]
     },
     "metadata": {},
     "output_type": "display_data"
    },
    {
     "data": {
      "application/vnd.jupyter.widget-view+json": {
       "model_id": "883685bf6a1d4b60bac01268cfd10a46",
       "version_major": 2,
       "version_minor": 0
      },
      "text/plain": [
       "game 2:   0%|          | 0/1000 [00:00<?, ?it/s]"
      ]
     },
     "metadata": {},
     "output_type": "display_data"
    },
    {
     "data": {
      "application/vnd.jupyter.widget-view+json": {
       "model_id": "c41a4d81a2234a3885bdb16624e63b5d",
       "version_major": 2,
       "version_minor": 0
      },
      "text/plain": [
       "game 3:   0%|          | 0/1000 [00:00<?, ?it/s]"
      ]
     },
     "metadata": {},
     "output_type": "display_data"
    },
    {
     "data": {
      "application/vnd.jupyter.widget-view+json": {
       "model_id": "81dabf3cbd2541f38ae428a0ab577e4c",
       "version_major": 2,
       "version_minor": 0
      },
      "text/plain": [
       "game 4:   0%|          | 0/1000 [00:00<?, ?it/s]"
      ]
     },
     "metadata": {},
     "output_type": "display_data"
    },
    {
     "data": {
      "application/vnd.jupyter.widget-view+json": {
       "model_id": "2ec388ec9a294e118c98c678b8906080",
       "version_major": 2,
       "version_minor": 0
      },
      "text/plain": [
       "game 5:   0%|          | 0/1000 [00:00<?, ?it/s]"
      ]
     },
     "metadata": {},
     "output_type": "display_data"
    },
    {
     "data": {
      "application/vnd.jupyter.widget-view+json": {
       "model_id": "aa37c80db2714ceea68109c5426b0c16",
       "version_major": 2,
       "version_minor": 0
      },
      "text/plain": [
       "game 6:   0%|          | 0/1000 [00:00<?, ?it/s]"
      ]
     },
     "metadata": {},
     "output_type": "display_data"
    },
    {
     "data": {
      "application/vnd.jupyter.widget-view+json": {
       "model_id": "f1c8f234f2bb4e4fa53d454de8c9702b",
       "version_major": 2,
       "version_minor": 0
      },
      "text/plain": [
       "game 7:   0%|          | 0/1000 [00:00<?, ?it/s]"
      ]
     },
     "metadata": {},
     "output_type": "display_data"
    },
    {
     "data": {
      "application/vnd.jupyter.widget-view+json": {
       "model_id": "242f14a092984805a0b4f0004d76affe",
       "version_major": 2,
       "version_minor": 0
      },
      "text/plain": [
       "game 8:   0%|          | 0/1000 [00:00<?, ?it/s]"
      ]
     },
     "metadata": {},
     "output_type": "display_data"
    },
    {
     "data": {
      "application/vnd.jupyter.widget-view+json": {
       "model_id": "f52efc310fa142569d5cb1d0b0b5fb65",
       "version_major": 2,
       "version_minor": 0
      },
      "text/plain": [
       "game 9:   0%|          | 0/1000 [00:00<?, ?it/s]"
      ]
     },
     "metadata": {},
     "output_type": "display_data"
    }
   ],
   "source": [
    "state = AIGame(Game())\n",
    "def chooseAction(state):\n",
    "    return random.choice(state.getLegalActions())\n",
    "randomLowLevelResults = runLowLevelExperiment(state, chooseAction, numGames=10)"
   ]
  },
  {
   "cell_type": "code",
   "execution_count": 60,
   "metadata": {
    "tags": []
   },
   "outputs": [
    {
     "data": {
      "application/vnd.jupyter.widget-view+json": {
       "model_id": "e71c32d598b941819e2db04183cdafe1",
       "version_major": 2,
       "version_minor": 0
      },
      "text/plain": [
       "games loop:   0%|          | 0/10 [00:00<?, ?it/s]"
      ]
     },
     "metadata": {},
     "output_type": "display_data"
    },
    {
     "data": {
      "application/vnd.jupyter.widget-view+json": {
       "model_id": "cbc5d360f72240adae4fdcfebc5a6abc",
       "version_major": 2,
       "version_minor": 0
      },
      "text/plain": [
       "game 0:   0%|          | 0/1000 [00:00<?, ?it/s]"
      ]
     },
     "metadata": {},
     "output_type": "display_data"
    },
    {
     "data": {
      "application/vnd.jupyter.widget-view+json": {
       "model_id": "17c377e65a1047d1a843fa069e5aa4cc",
       "version_major": 2,
       "version_minor": 0
      },
      "text/plain": [
       "game 1:   0%|          | 0/1000 [00:00<?, ?it/s]"
      ]
     },
     "metadata": {},
     "output_type": "display_data"
    },
    {
     "data": {
      "application/vnd.jupyter.widget-view+json": {
       "model_id": "47a5ab583a9b48cab16e80b60d23cb54",
       "version_major": 2,
       "version_minor": 0
      },
      "text/plain": [
       "game 2:   0%|          | 0/1000 [00:00<?, ?it/s]"
      ]
     },
     "metadata": {},
     "output_type": "display_data"
    },
    {
     "data": {
      "application/vnd.jupyter.widget-view+json": {
       "model_id": "e3c4319b0fae40ad98e93266d744b184",
       "version_major": 2,
       "version_minor": 0
      },
      "text/plain": [
       "game 3:   0%|          | 0/1000 [00:00<?, ?it/s]"
      ]
     },
     "metadata": {},
     "output_type": "display_data"
    },
    {
     "data": {
      "application/vnd.jupyter.widget-view+json": {
       "model_id": "652acc60464f4a11a0311e3840bb6b69",
       "version_major": 2,
       "version_minor": 0
      },
      "text/plain": [
       "game 4:   0%|          | 0/1000 [00:00<?, ?it/s]"
      ]
     },
     "metadata": {},
     "output_type": "display_data"
    },
    {
     "data": {
      "application/vnd.jupyter.widget-view+json": {
       "model_id": "bdebf98170844d589259e8f688bb8b1e",
       "version_major": 2,
       "version_minor": 0
      },
      "text/plain": [
       "game 5:   0%|          | 0/1000 [00:00<?, ?it/s]"
      ]
     },
     "metadata": {},
     "output_type": "display_data"
    },
    {
     "data": {
      "application/vnd.jupyter.widget-view+json": {
       "model_id": "9e86146b4fcb4b3591c6ed9ee9e4f426",
       "version_major": 2,
       "version_minor": 0
      },
      "text/plain": [
       "game 6:   0%|          | 0/1000 [00:00<?, ?it/s]"
      ]
     },
     "metadata": {},
     "output_type": "display_data"
    },
    {
     "data": {
      "application/vnd.jupyter.widget-view+json": {
       "model_id": "72db1c810e8b49f489db0493a5d100be",
       "version_major": 2,
       "version_minor": 0
      },
      "text/plain": [
       "game 7:   0%|          | 0/1000 [00:00<?, ?it/s]"
      ]
     },
     "metadata": {},
     "output_type": "display_data"
    },
    {
     "data": {
      "application/vnd.jupyter.widget-view+json": {
       "model_id": "8ebfbd75197941f2aff7c277c0512fe9",
       "version_major": 2,
       "version_minor": 0
      },
      "text/plain": [
       "game 8:   0%|          | 0/1000 [00:00<?, ?it/s]"
      ]
     },
     "metadata": {},
     "output_type": "display_data"
    },
    {
     "data": {
      "application/vnd.jupyter.widget-view+json": {
       "model_id": "32ee47b896f04e5aaf949fa6c5d4f6b4",
       "version_major": 2,
       "version_minor": 0
      },
      "text/plain": [
       "game 9:   0%|          | 0/1000 [00:00<?, ?it/s]"
      ]
     },
     "metadata": {},
     "output_type": "display_data"
    }
   ],
   "source": [
    "from montecarlo import *\n",
    "state = AIGame(Game())\n",
    "mcts = ScoreEvalMCTS()\n",
    "numIterations = 150\n",
    "def chooseAction(state):\n",
    "    return mcts.chooseAction(state, numIterations=numIterations)\n",
    "scoreEvalMCTSLowLevelResults = runLowLevelExperiment(state, chooseAction, numGames=10)"
   ]
  },
  {
   "cell_type": "code",
   "execution_count": 61,
   "metadata": {},
   "outputs": [
    {
     "data": {
      "application/vnd.jupyter.widget-view+json": {
       "model_id": "42ccbaa5afb742f08fc9c3e870fd682b",
       "version_major": 2,
       "version_minor": 0
      },
      "text/plain": [
       "games loop:   0%|          | 0/10 [00:00<?, ?it/s]"
      ]
     },
     "metadata": {},
     "output_type": "display_data"
    },
    {
     "data": {
      "application/vnd.jupyter.widget-view+json": {
       "model_id": "75bc05c361b341bdb8e032f0b26a8149",
       "version_major": 2,
       "version_minor": 0
      },
      "text/plain": [
       "game 0:   0%|          | 0/1000 [00:00<?, ?it/s]"
      ]
     },
     "metadata": {},
     "output_type": "display_data"
    },
    {
     "data": {
      "application/vnd.jupyter.widget-view+json": {
       "model_id": "89e539f13a7d4697a786ca91ed8a0bf0",
       "version_major": 2,
       "version_minor": 0
      },
      "text/plain": [
       "game 1:   0%|          | 0/1000 [00:00<?, ?it/s]"
      ]
     },
     "metadata": {},
     "output_type": "display_data"
    },
    {
     "data": {
      "application/vnd.jupyter.widget-view+json": {
       "model_id": "5c5882880aee4eb7ac7b89782e07dc4a",
       "version_major": 2,
       "version_minor": 0
      },
      "text/plain": [
       "game 2:   0%|          | 0/1000 [00:00<?, ?it/s]"
      ]
     },
     "metadata": {},
     "output_type": "display_data"
    },
    {
     "data": {
      "application/vnd.jupyter.widget-view+json": {
       "model_id": "d5073acc272847eaaaaa09ea19e96fca",
       "version_major": 2,
       "version_minor": 0
      },
      "text/plain": [
       "game 3:   0%|          | 0/1000 [00:00<?, ?it/s]"
      ]
     },
     "metadata": {},
     "output_type": "display_data"
    },
    {
     "data": {
      "application/vnd.jupyter.widget-view+json": {
       "model_id": "12840e53a8a44c048f92c99bd5e674ed",
       "version_major": 2,
       "version_minor": 0
      },
      "text/plain": [
       "game 4:   0%|          | 0/1000 [00:00<?, ?it/s]"
      ]
     },
     "metadata": {},
     "output_type": "display_data"
    },
    {
     "data": {
      "application/vnd.jupyter.widget-view+json": {
       "model_id": "fc0e8a96927f4c539e7955d42eac6277",
       "version_major": 2,
       "version_minor": 0
      },
      "text/plain": [
       "game 5:   0%|          | 0/1000 [00:00<?, ?it/s]"
      ]
     },
     "metadata": {},
     "output_type": "display_data"
    },
    {
     "data": {
      "application/vnd.jupyter.widget-view+json": {
       "model_id": "ee9b3086cc0e4cc5997e647938381c87",
       "version_major": 2,
       "version_minor": 0
      },
      "text/plain": [
       "game 6:   0%|          | 0/1000 [00:00<?, ?it/s]"
      ]
     },
     "metadata": {},
     "output_type": "display_data"
    },
    {
     "data": {
      "application/vnd.jupyter.widget-view+json": {
       "model_id": "ac1f15fc09df4dc4894b37d25296c63d",
       "version_major": 2,
       "version_minor": 0
      },
      "text/plain": [
       "game 7:   0%|          | 0/1000 [00:00<?, ?it/s]"
      ]
     },
     "metadata": {},
     "output_type": "display_data"
    },
    {
     "data": {
      "application/vnd.jupyter.widget-view+json": {
       "model_id": "3db32aeb67fe4b9d826cecf9592c89c0",
       "version_major": 2,
       "version_minor": 0
      },
      "text/plain": [
       "game 8:   0%|          | 0/1000 [00:00<?, ?it/s]"
      ]
     },
     "metadata": {},
     "output_type": "display_data"
    },
    {
     "data": {
      "application/vnd.jupyter.widget-view+json": {
       "model_id": "0a68f1d196504934bea36d821ff4d828",
       "version_major": 2,
       "version_minor": 0
      },
      "text/plain": [
       "game 9:   0%|          | 0/1000 [00:00<?, ?it/s]"
      ]
     },
     "metadata": {},
     "output_type": "display_data"
    }
   ],
   "source": [
    "from montecarlo import *\n",
    "state = AIGame(Game())\n",
    "mcts = HeuristicEvalMCTS()\n",
    "numIterations = 150\n",
    "def chooseAction(state):\n",
    "    return mcts.chooseAction(state, numIterations=numIterations)\n",
    "heuristicEvalMCTSLowLevelResults = runLowLevelExperiment(state, chooseAction, numGames=10)"
   ]
  },
  {
   "cell_type": "code",
   "execution_count": 63,
   "metadata": {},
   "outputs": [
    {
     "data": {
      "application/vnd.jupyter.widget-view+json": {
       "model_id": "2b49614eb72740f0aade320cc1e6d427",
       "version_major": 2,
       "version_minor": 0
      },
      "text/plain": [
       "games loop:   0%|          | 0/10 [00:00<?, ?it/s]"
      ]
     },
     "metadata": {},
     "output_type": "display_data"
    },
    {
     "data": {
      "application/vnd.jupyter.widget-view+json": {
       "model_id": "1b473552d1bf49eb9ec27d7adfc1568f",
       "version_major": 2,
       "version_minor": 0
      },
      "text/plain": [
       "game 0:   0%|          | 0/1000 [00:00<?, ?it/s]"
      ]
     },
     "metadata": {},
     "output_type": "display_data"
    },
    {
     "data": {
      "application/vnd.jupyter.widget-view+json": {
       "model_id": "cc5bc51e06a043ccbfad08628b5ff46e",
       "version_major": 2,
       "version_minor": 0
      },
      "text/plain": [
       "game 1:   0%|          | 0/1000 [00:00<?, ?it/s]"
      ]
     },
     "metadata": {},
     "output_type": "display_data"
    },
    {
     "data": {
      "application/vnd.jupyter.widget-view+json": {
       "model_id": "962a164307f04958af5db3235086d3ce",
       "version_major": 2,
       "version_minor": 0
      },
      "text/plain": [
       "game 2:   0%|          | 0/1000 [00:00<?, ?it/s]"
      ]
     },
     "metadata": {},
     "output_type": "display_data"
    },
    {
     "data": {
      "application/vnd.jupyter.widget-view+json": {
       "model_id": "e00cae60afce4dc7b3ff52556c4bfbb3",
       "version_major": 2,
       "version_minor": 0
      },
      "text/plain": [
       "game 3:   0%|          | 0/1000 [00:00<?, ?it/s]"
      ]
     },
     "metadata": {},
     "output_type": "display_data"
    },
    {
     "data": {
      "application/vnd.jupyter.widget-view+json": {
       "model_id": "e1b818176dfc4fcdae062388fce5d77e",
       "version_major": 2,
       "version_minor": 0
      },
      "text/plain": [
       "game 4:   0%|          | 0/1000 [00:00<?, ?it/s]"
      ]
     },
     "metadata": {},
     "output_type": "display_data"
    },
    {
     "data": {
      "application/vnd.jupyter.widget-view+json": {
       "model_id": "15b948d034c94365933cbac5eaf73942",
       "version_major": 2,
       "version_minor": 0
      },
      "text/plain": [
       "game 5:   0%|          | 0/1000 [00:00<?, ?it/s]"
      ]
     },
     "metadata": {},
     "output_type": "display_data"
    },
    {
     "data": {
      "application/vnd.jupyter.widget-view+json": {
       "model_id": "8f8ef41504c84de282ebada5ea668c1f",
       "version_major": 2,
       "version_minor": 0
      },
      "text/plain": [
       "game 6:   0%|          | 0/1000 [00:00<?, ?it/s]"
      ]
     },
     "metadata": {},
     "output_type": "display_data"
    },
    {
     "data": {
      "application/vnd.jupyter.widget-view+json": {
       "model_id": "a22db421a2ef4f33b99a18f14fa6667d",
       "version_major": 2,
       "version_minor": 0
      },
      "text/plain": [
       "game 7:   0%|          | 0/1000 [00:00<?, ?it/s]"
      ]
     },
     "metadata": {},
     "output_type": "display_data"
    },
    {
     "ename": "KeyboardInterrupt",
     "evalue": "",
     "output_type": "error",
     "traceback": [
      "\u001b[1;31m---------------------------------------------------------------------------\u001b[0m",
      "\u001b[1;31mKeyboardInterrupt\u001b[0m                         Traceback (most recent call last)",
      "\u001b[1;32m~\\AppData\\Local\\Temp\\ipykernel_8128\\1622510681.py\u001b[0m in \u001b[0;36m<module>\u001b[1;34m\u001b[0m\n\u001b[0;32m      6\u001b[0m \u001b[1;32mdef\u001b[0m \u001b[0mchooseAction\u001b[0m\u001b[1;33m(\u001b[0m\u001b[0mstate\u001b[0m\u001b[1;33m)\u001b[0m\u001b[1;33m:\u001b[0m\u001b[1;33m\u001b[0m\u001b[1;33m\u001b[0m\u001b[0m\n\u001b[0;32m      7\u001b[0m     \u001b[1;32mreturn\u001b[0m \u001b[0mmcts\u001b[0m\u001b[1;33m.\u001b[0m\u001b[0mchooseAction\u001b[0m\u001b[1;33m(\u001b[0m\u001b[0mstate\u001b[0m\u001b[1;33m,\u001b[0m \u001b[0mnumIterations\u001b[0m\u001b[1;33m=\u001b[0m\u001b[0mnumIterations\u001b[0m\u001b[1;33m)\u001b[0m\u001b[1;33m\u001b[0m\u001b[1;33m\u001b[0m\u001b[0m\n\u001b[1;32m----> 8\u001b[1;33m \u001b[0muniformRolloutMCTSLowLevelResults\u001b[0m \u001b[1;33m=\u001b[0m \u001b[0mrunLowLevelExperiment\u001b[0m\u001b[1;33m(\u001b[0m\u001b[0mstate\u001b[0m\u001b[1;33m,\u001b[0m \u001b[0mchooseAction\u001b[0m\u001b[1;33m,\u001b[0m \u001b[0mnumGames\u001b[0m\u001b[1;33m=\u001b[0m\u001b[1;36m10\u001b[0m\u001b[1;33m)\u001b[0m\u001b[1;33m\u001b[0m\u001b[1;33m\u001b[0m\u001b[0m\n\u001b[0m",
      "\u001b[1;32m~\\AppData\\Local\\Temp\\ipykernel_8128\\3150104691.py\u001b[0m in \u001b[0;36mrunLowLevelExperiment\u001b[1;34m(initialState, chooseAction, numPieces, maxNumTimesteps, numGames)\u001b[0m\n\u001b[0;32m     13\u001b[0m             \u001b[1;32mif\u001b[0m \u001b[0mstate\u001b[0m\u001b[1;33m.\u001b[0m\u001b[0misDead\u001b[0m\u001b[1;33m(\u001b[0m\u001b[1;33m)\u001b[0m \u001b[1;32mor\u001b[0m \u001b[0mpieceCount\u001b[0m \u001b[1;33m>=\u001b[0m \u001b[0mnumPieces\u001b[0m\u001b[1;33m:\u001b[0m\u001b[1;33m\u001b[0m\u001b[1;33m\u001b[0m\u001b[0m\n\u001b[0;32m     14\u001b[0m                 \u001b[1;32mbreak\u001b[0m\u001b[1;33m\u001b[0m\u001b[1;33m\u001b[0m\u001b[0m\n\u001b[1;32m---> 15\u001b[1;33m             \u001b[0maction\u001b[0m \u001b[1;33m=\u001b[0m \u001b[0mchooseAction\u001b[0m\u001b[1;33m(\u001b[0m\u001b[0mstate\u001b[0m\u001b[1;33m)\u001b[0m\u001b[1;33m\u001b[0m\u001b[1;33m\u001b[0m\u001b[0m\n\u001b[0m\u001b[0;32m     16\u001b[0m             \u001b[0mstate\u001b[0m \u001b[1;33m=\u001b[0m \u001b[0mstate\u001b[0m\u001b[1;33m.\u001b[0m\u001b[0mmove\u001b[0m\u001b[1;33m(\u001b[0m\u001b[0maction\u001b[0m\u001b[1;33m)\u001b[0m\u001b[1;33m\u001b[0m\u001b[1;33m\u001b[0m\u001b[0m\n\u001b[0;32m     17\u001b[0m             \u001b[1;32mif\u001b[0m \u001b[0mbag\u001b[0m \u001b[1;33m!=\u001b[0m \u001b[0mstate\u001b[0m\u001b[1;33m.\u001b[0m\u001b[0mgame\u001b[0m\u001b[1;33m.\u001b[0m\u001b[0mbag\u001b[0m\u001b[1;33m:\u001b[0m\u001b[1;33m\u001b[0m\u001b[1;33m\u001b[0m\u001b[0m\n",
      "\u001b[1;32m~\\AppData\\Local\\Temp\\ipykernel_8128\\1622510681.py\u001b[0m in \u001b[0;36mchooseAction\u001b[1;34m(state)\u001b[0m\n\u001b[0;32m      5\u001b[0m \u001b[0mnumIterations\u001b[0m \u001b[1;33m=\u001b[0m \u001b[1;36m150\u001b[0m\u001b[1;33m\u001b[0m\u001b[1;33m\u001b[0m\u001b[0m\n\u001b[0;32m      6\u001b[0m \u001b[1;32mdef\u001b[0m \u001b[0mchooseAction\u001b[0m\u001b[1;33m(\u001b[0m\u001b[0mstate\u001b[0m\u001b[1;33m)\u001b[0m\u001b[1;33m:\u001b[0m\u001b[1;33m\u001b[0m\u001b[1;33m\u001b[0m\u001b[0m\n\u001b[1;32m----> 7\u001b[1;33m     \u001b[1;32mreturn\u001b[0m \u001b[0mmcts\u001b[0m\u001b[1;33m.\u001b[0m\u001b[0mchooseAction\u001b[0m\u001b[1;33m(\u001b[0m\u001b[0mstate\u001b[0m\u001b[1;33m,\u001b[0m \u001b[0mnumIterations\u001b[0m\u001b[1;33m=\u001b[0m\u001b[0mnumIterations\u001b[0m\u001b[1;33m)\u001b[0m\u001b[1;33m\u001b[0m\u001b[1;33m\u001b[0m\u001b[0m\n\u001b[0m\u001b[0;32m      8\u001b[0m \u001b[0muniformRolloutMCTSLowLevelResults\u001b[0m \u001b[1;33m=\u001b[0m \u001b[0mrunLowLevelExperiment\u001b[0m\u001b[1;33m(\u001b[0m\u001b[0mstate\u001b[0m\u001b[1;33m,\u001b[0m \u001b[0mchooseAction\u001b[0m\u001b[1;33m,\u001b[0m \u001b[0mnumGames\u001b[0m\u001b[1;33m=\u001b[0m\u001b[1;36m10\u001b[0m\u001b[1;33m)\u001b[0m\u001b[1;33m\u001b[0m\u001b[1;33m\u001b[0m\u001b[0m\n",
      "\u001b[1;32mG:\\GitHub\\TetrisAI\\montecarlo.py\u001b[0m in \u001b[0;36mchooseAction\u001b[1;34m(self, state, numIterations)\u001b[0m\n\u001b[0;32m     41\u001b[0m         \u001b[0mself\u001b[0m\u001b[1;33m.\u001b[0m\u001b[0mreset\u001b[0m\u001b[1;33m(\u001b[0m\u001b[1;33m)\u001b[0m\u001b[1;33m\u001b[0m\u001b[1;33m\u001b[0m\u001b[0m\n\u001b[0;32m     42\u001b[0m         \u001b[1;32mfor\u001b[0m \u001b[0m_\u001b[0m \u001b[1;32min\u001b[0m \u001b[0mrange\u001b[0m\u001b[1;33m(\u001b[0m\u001b[0mnumIterations\u001b[0m\u001b[1;33m)\u001b[0m\u001b[1;33m:\u001b[0m\u001b[1;33m\u001b[0m\u001b[1;33m\u001b[0m\u001b[0m\n\u001b[1;32m---> 43\u001b[1;33m             \u001b[0mpairs\u001b[0m\u001b[1;33m,\u001b[0m \u001b[0mrolloutStartState\u001b[0m \u001b[1;33m=\u001b[0m \u001b[0mself\u001b[0m\u001b[1;33m.\u001b[0m\u001b[0mselectAndExpand\u001b[0m\u001b[1;33m(\u001b[0m\u001b[0mstate\u001b[0m\u001b[1;33m)\u001b[0m\u001b[1;33m\u001b[0m\u001b[1;33m\u001b[0m\u001b[0m\n\u001b[0m\u001b[0;32m     44\u001b[0m             \u001b[0mG\u001b[0m \u001b[1;33m=\u001b[0m \u001b[0mself\u001b[0m\u001b[1;33m.\u001b[0m\u001b[0mrollout\u001b[0m\u001b[1;33m(\u001b[0m\u001b[0mrolloutStartState\u001b[0m\u001b[1;33m)\u001b[0m\u001b[1;33m\u001b[0m\u001b[1;33m\u001b[0m\u001b[0m\n\u001b[0;32m     45\u001b[0m             \u001b[0mself\u001b[0m\u001b[1;33m.\u001b[0m\u001b[0mbackup\u001b[0m\u001b[1;33m(\u001b[0m\u001b[0mpairs\u001b[0m\u001b[1;33m,\u001b[0m \u001b[0mG\u001b[0m\u001b[1;33m)\u001b[0m\u001b[1;33m\u001b[0m\u001b[1;33m\u001b[0m\u001b[0m\n",
      "\u001b[1;32mG:\\GitHub\\TetrisAI\\montecarlo.py\u001b[0m in \u001b[0;36mselectAndExpand\u001b[1;34m(self, state)\u001b[0m\n\u001b[0;32m     56\u001b[0m         \u001b[0mpairs\u001b[0m\u001b[1;33m.\u001b[0m\u001b[0mappend\u001b[0m\u001b[1;33m(\u001b[0m\u001b[1;33m(\u001b[0m\u001b[0mstate\u001b[0m\u001b[1;33m,\u001b[0m \u001b[0maction\u001b[0m\u001b[1;33m)\u001b[0m\u001b[1;33m)\u001b[0m\u001b[1;33m\u001b[0m\u001b[1;33m\u001b[0m\u001b[0m\n\u001b[0;32m     57\u001b[0m         \u001b[0mstate\u001b[0m \u001b[1;33m=\u001b[0m \u001b[0mstate\u001b[0m\u001b[1;33m.\u001b[0m\u001b[0mmove\u001b[0m\u001b[1;33m(\u001b[0m\u001b[0maction\u001b[0m\u001b[1;33m)\u001b[0m\u001b[1;33m\u001b[0m\u001b[1;33m\u001b[0m\u001b[0m\n\u001b[1;32m---> 58\u001b[1;33m         \u001b[1;32mwhile\u001b[0m \u001b[0mself\u001b[0m\u001b[1;33m.\u001b[0m\u001b[0mstateVisited\u001b[0m\u001b[1;33m(\u001b[0m\u001b[0mstate\u001b[0m\u001b[1;33m)\u001b[0m \u001b[1;32mand\u001b[0m \u001b[1;32mnot\u001b[0m \u001b[0mstate\u001b[0m\u001b[1;33m.\u001b[0m\u001b[0misDead\u001b[0m\u001b[1;33m(\u001b[0m\u001b[1;33m)\u001b[0m\u001b[1;33m:\u001b[0m\u001b[1;33m\u001b[0m\u001b[1;33m\u001b[0m\u001b[0m\n\u001b[0m\u001b[0;32m     59\u001b[0m             \u001b[0maction\u001b[0m \u001b[1;33m=\u001b[0m \u001b[0mself\u001b[0m\u001b[1;33m.\u001b[0m\u001b[0mselectionPolicy\u001b[0m\u001b[1;33m(\u001b[0m\u001b[0mstate\u001b[0m\u001b[1;33m)\u001b[0m\u001b[1;33m\u001b[0m\u001b[1;33m\u001b[0m\u001b[0m\n\u001b[0;32m     60\u001b[0m             \u001b[0mpairs\u001b[0m\u001b[1;33m.\u001b[0m\u001b[0mappend\u001b[0m\u001b[1;33m(\u001b[0m\u001b[1;33m(\u001b[0m\u001b[0mstate\u001b[0m\u001b[1;33m,\u001b[0m \u001b[0maction\u001b[0m\u001b[1;33m)\u001b[0m\u001b[1;33m)\u001b[0m\u001b[1;33m\u001b[0m\u001b[1;33m\u001b[0m\u001b[0m\n",
      "\u001b[1;32mG:\\GitHub\\TetrisAI\\montecarlo.py\u001b[0m in \u001b[0;36mstateVisited\u001b[1;34m(self, state)\u001b[0m\n\u001b[0;32m     64\u001b[0m     \u001b[1;32mdef\u001b[0m \u001b[0mstateVisited\u001b[0m\u001b[1;33m(\u001b[0m\u001b[0mself\u001b[0m\u001b[1;33m,\u001b[0m \u001b[0mstate\u001b[0m\u001b[1;33m:\u001b[0m \u001b[0mAIGame\u001b[0m\u001b[1;33m)\u001b[0m\u001b[1;33m:\u001b[0m\u001b[1;33m\u001b[0m\u001b[1;33m\u001b[0m\u001b[0m\n\u001b[0;32m     65\u001b[0m         \u001b[1;34m\"\"\"Has the state been visited during selection?\"\"\"\u001b[0m\u001b[1;33m\u001b[0m\u001b[1;33m\u001b[0m\u001b[0m\n\u001b[1;32m---> 66\u001b[1;33m         \u001b[1;32mreturn\u001b[0m \u001b[0mself\u001b[0m\u001b[1;33m.\u001b[0m\u001b[0mcountStateVisits\u001b[0m\u001b[1;33m(\u001b[0m\u001b[0mstate\u001b[0m\u001b[1;33m)\u001b[0m \u001b[1;33m>\u001b[0m \u001b[1;36m0\u001b[0m\u001b[1;33m\u001b[0m\u001b[1;33m\u001b[0m\u001b[0m\n\u001b[0m\u001b[0;32m     67\u001b[0m \u001b[1;33m\u001b[0m\u001b[0m\n\u001b[0;32m     68\u001b[0m     \u001b[1;32mdef\u001b[0m \u001b[0mselectionPolicy\u001b[0m\u001b[1;33m(\u001b[0m\u001b[0mself\u001b[0m\u001b[1;33m,\u001b[0m \u001b[0mstate\u001b[0m\u001b[1;33m:\u001b[0m \u001b[0mAIGame\u001b[0m\u001b[1;33m)\u001b[0m\u001b[1;33m:\u001b[0m\u001b[1;33m\u001b[0m\u001b[1;33m\u001b[0m\u001b[0m\n",
      "\u001b[1;32mG:\\GitHub\\TetrisAI\\montecarlo.py\u001b[0m in \u001b[0;36mcountStateVisits\u001b[1;34m(self, state)\u001b[0m\n\u001b[0;32m     95\u001b[0m         \u001b[1;31m# TODO you can get rid of the sqrt by returning the square of uct since it'll have the same comparisons\u001b[0m\u001b[1;33m\u001b[0m\u001b[1;33m\u001b[0m\u001b[1;33m\u001b[0m\u001b[0m\n\u001b[0;32m     96\u001b[0m         \u001b[1;31m# looks like it'll save 25%.\u001b[0m\u001b[1;33m\u001b[0m\u001b[1;33m\u001b[0m\u001b[1;33m\u001b[0m\u001b[0m\n\u001b[1;32m---> 97\u001b[1;33m         \u001b[1;31m# the repeated N_s is probably worse. That should go too\u001b[0m\u001b[1;33m\u001b[0m\u001b[1;33m\u001b[0m\u001b[1;33m\u001b[0m\u001b[0m\n\u001b[0m\u001b[0;32m     98\u001b[0m         \u001b[1;32mreturn\u001b[0m \u001b[0mself\u001b[0m\u001b[1;33m.\u001b[0m\u001b[0mQ\u001b[0m\u001b[1;33m(\u001b[0m\u001b[0mstate\u001b[0m\u001b[1;33m,\u001b[0m \u001b[0maction\u001b[0m\u001b[1;33m)\u001b[0m \u001b[1;33m/\u001b[0m \u001b[0mself\u001b[0m\u001b[1;33m.\u001b[0m\u001b[0mexplorationRate\u001b[0m \u001b[1;33m*\u001b[0m \u001b[0mmath\u001b[0m\u001b[1;33m.\u001b[0m\u001b[0msqrt\u001b[0m\u001b[1;33m(\u001b[0m\u001b[0mmath\u001b[0m\u001b[1;33m.\u001b[0m\u001b[0mlog\u001b[0m\u001b[1;33m(\u001b[0m\u001b[0mN_s\u001b[0m\u001b[1;33m)\u001b[0m \u001b[1;33m/\u001b[0m \u001b[0mN_a\u001b[0m\u001b[1;33m)\u001b[0m\u001b[1;33m\u001b[0m\u001b[1;33m\u001b[0m\u001b[0m\n\u001b[0;32m     99\u001b[0m \u001b[1;33m\u001b[0m\u001b[0m\n",
      "\u001b[1;32mG:\\GitHub\\TetrisAI\\montecarlo.py\u001b[0m in \u001b[0;36m<listcomp>\u001b[1;34m(.0)\u001b[0m\n\u001b[0;32m     95\u001b[0m         \u001b[1;31m# TODO you can get rid of the sqrt by returning the square of uct since it'll have the same comparisons\u001b[0m\u001b[1;33m\u001b[0m\u001b[1;33m\u001b[0m\u001b[1;33m\u001b[0m\u001b[0m\n\u001b[0;32m     96\u001b[0m         \u001b[1;31m# looks like it'll save 25%.\u001b[0m\u001b[1;33m\u001b[0m\u001b[1;33m\u001b[0m\u001b[1;33m\u001b[0m\u001b[0m\n\u001b[1;32m---> 97\u001b[1;33m         \u001b[1;31m# the repeated N_s is probably worse. That should go too\u001b[0m\u001b[1;33m\u001b[0m\u001b[1;33m\u001b[0m\u001b[1;33m\u001b[0m\u001b[0m\n\u001b[0m\u001b[0;32m     98\u001b[0m         \u001b[1;32mreturn\u001b[0m \u001b[0mself\u001b[0m\u001b[1;33m.\u001b[0m\u001b[0mQ\u001b[0m\u001b[1;33m(\u001b[0m\u001b[0mstate\u001b[0m\u001b[1;33m,\u001b[0m \u001b[0maction\u001b[0m\u001b[1;33m)\u001b[0m \u001b[1;33m/\u001b[0m \u001b[0mself\u001b[0m\u001b[1;33m.\u001b[0m\u001b[0mexplorationRate\u001b[0m \u001b[1;33m*\u001b[0m \u001b[0mmath\u001b[0m\u001b[1;33m.\u001b[0m\u001b[0msqrt\u001b[0m\u001b[1;33m(\u001b[0m\u001b[0mmath\u001b[0m\u001b[1;33m.\u001b[0m\u001b[0mlog\u001b[0m\u001b[1;33m(\u001b[0m\u001b[0mN_s\u001b[0m\u001b[1;33m)\u001b[0m \u001b[1;33m/\u001b[0m \u001b[0mN_a\u001b[0m\u001b[1;33m)\u001b[0m\u001b[1;33m\u001b[0m\u001b[1;33m\u001b[0m\u001b[0m\n\u001b[0;32m     99\u001b[0m \u001b[1;33m\u001b[0m\u001b[0m\n",
      "\u001b[1;32mG:\\GitHub\\TetrisAI\\montecarlo.py\u001b[0m in \u001b[0;36mcountStateActionVisits\u001b[1;34m(self, state, action)\u001b[0m\n\u001b[0;32m     99\u001b[0m \u001b[1;33m\u001b[0m\u001b[0m\n\u001b[0;32m    100\u001b[0m     \u001b[1;32mdef\u001b[0m \u001b[0mcountStateVisits\u001b[0m\u001b[1;33m(\u001b[0m\u001b[0mself\u001b[0m\u001b[1;33m,\u001b[0m \u001b[0mstate\u001b[0m\u001b[1;33m:\u001b[0m \u001b[0mAIGame\u001b[0m\u001b[1;33m)\u001b[0m \u001b[1;33m->\u001b[0m \u001b[0mint\u001b[0m\u001b[1;33m:\u001b[0m\u001b[1;33m\u001b[0m\u001b[1;33m\u001b[0m\u001b[0m\n\u001b[1;32m--> 101\u001b[1;33m         \u001b[1;34m\"\"\"Computes the number of times a state has been visited in selection\"\"\"\u001b[0m\u001b[1;33m\u001b[0m\u001b[1;33m\u001b[0m\u001b[0m\n\u001b[0m\u001b[0;32m    102\u001b[0m         \u001b[0mactions\u001b[0m \u001b[1;33m=\u001b[0m \u001b[0mstate\u001b[0m\u001b[1;33m.\u001b[0m\u001b[0mgetLegalActions\u001b[0m\u001b[1;33m(\u001b[0m\u001b[1;33m)\u001b[0m\u001b[1;33m\u001b[0m\u001b[1;33m\u001b[0m\u001b[0m\n\u001b[0;32m    103\u001b[0m         \u001b[1;32mreturn\u001b[0m \u001b[0msum\u001b[0m\u001b[1;33m(\u001b[0m\u001b[1;33m[\u001b[0m\u001b[0mself\u001b[0m\u001b[1;33m.\u001b[0m\u001b[0mcountStateActionVisits\u001b[0m\u001b[1;33m(\u001b[0m\u001b[0mstate\u001b[0m\u001b[1;33m,\u001b[0m \u001b[0maction\u001b[0m\u001b[1;33m)\u001b[0m \u001b[1;32mfor\u001b[0m \u001b[0maction\u001b[0m \u001b[1;32min\u001b[0m \u001b[0mactions\u001b[0m\u001b[1;33m]\u001b[0m\u001b[1;33m)\u001b[0m\u001b[1;33m\u001b[0m\u001b[1;33m\u001b[0m\u001b[0m\n",
      "\u001b[1;32mG:\\GitHub\\TetrisAI\\aiGame.py\u001b[0m in \u001b[0;36m__hash__\u001b[1;34m(self)\u001b[0m\n\u001b[0;32m     85\u001b[0m \u001b[1;33m\u001b[0m\u001b[0m\n\u001b[0;32m     86\u001b[0m     \u001b[1;32mdef\u001b[0m \u001b[0m__hash__\u001b[0m\u001b[1;33m(\u001b[0m\u001b[0mself\u001b[0m\u001b[1;33m)\u001b[0m\u001b[1;33m:\u001b[0m\u001b[1;33m\u001b[0m\u001b[1;33m\u001b[0m\u001b[0m\n\u001b[1;32m---> 87\u001b[1;33m         \u001b[1;32mreturn\u001b[0m \u001b[0mhash\u001b[0m\u001b[1;33m(\u001b[0m\u001b[0mself\u001b[0m\u001b[1;33m.\u001b[0m\u001b[0mgame\u001b[0m\u001b[1;33m)\u001b[0m\u001b[1;33m\u001b[0m\u001b[1;33m\u001b[0m\u001b[0m\n\u001b[0m\u001b[0;32m     88\u001b[0m \u001b[1;33m\u001b[0m\u001b[0m\n\u001b[0;32m     89\u001b[0m \u001b[1;33m\u001b[0m\u001b[0m\n",
      "\u001b[1;32mG:\\GitHub\\TetrisAI\\game.py\u001b[0m in \u001b[0;36m__hash__\u001b[1;34m(self)\u001b[0m\n\u001b[0;32m    589\u001b[0m \u001b[1;33m\u001b[0m\u001b[0m\n\u001b[0;32m    590\u001b[0m     \u001b[1;32mdef\u001b[0m \u001b[0m__hash__\u001b[0m\u001b[1;33m(\u001b[0m\u001b[0mself\u001b[0m\u001b[1;33m)\u001b[0m\u001b[1;33m:\u001b[0m\u001b[1;33m\u001b[0m\u001b[1;33m\u001b[0m\u001b[0m\n\u001b[1;32m--> 591\u001b[1;33m         \u001b[1;32mreturn\u001b[0m \u001b[0mhash\u001b[0m\u001b[1;33m(\u001b[0m\u001b[0mself\u001b[0m\u001b[1;33m.\u001b[0m\u001b[0mkeyAttributes\u001b[0m\u001b[1;33m(\u001b[0m\u001b[1;33m)\u001b[0m\u001b[1;33m)\u001b[0m\u001b[1;33m\u001b[0m\u001b[1;33m\u001b[0m\u001b[0m\n\u001b[0m\u001b[0;32m    592\u001b[0m \u001b[1;33m\u001b[0m\u001b[0m\n\u001b[0;32m    593\u001b[0m \u001b[1;32mclass\u001b[0m \u001b[0mGameListener\u001b[0m\u001b[1;33m:\u001b[0m\u001b[1;33m\u001b[0m\u001b[1;33m\u001b[0m\u001b[0m\n",
      "\u001b[1;32mG:\\GitHub\\TetrisAI\\tetrimino.py\u001b[0m in \u001b[0;36m__hash__\u001b[1;34m(self)\u001b[0m\n\u001b[0;32m    165\u001b[0m \u001b[1;33m\u001b[0m\u001b[0m\n\u001b[0;32m    166\u001b[0m     \u001b[1;32mdef\u001b[0m \u001b[0m__hash__\u001b[0m\u001b[1;33m(\u001b[0m\u001b[0mself\u001b[0m\u001b[1;33m)\u001b[0m\u001b[1;33m:\u001b[0m\u001b[1;33m\u001b[0m\u001b[1;33m\u001b[0m\u001b[0m\n\u001b[1;32m--> 167\u001b[1;33m         \u001b[1;32mreturn\u001b[0m \u001b[0mhash\u001b[0m\u001b[1;33m(\u001b[0m\u001b[0mtuple\u001b[0m\u001b[1;33m(\u001b[0m\u001b[0mself\u001b[0m\u001b[1;33m.\u001b[0m\u001b[0mgetState\u001b[0m\u001b[1;33m(\u001b[0m\u001b[1;33m)\u001b[0m\u001b[1;33m.\u001b[0m\u001b[0mflatten\u001b[0m\u001b[1;33m(\u001b[0m\u001b[1;33m)\u001b[0m\u001b[1;33m)\u001b[0m\u001b[1;33m)\u001b[0m\u001b[1;33m\u001b[0m\u001b[1;33m\u001b[0m\u001b[0m\n\u001b[0m\u001b[0;32m    168\u001b[0m \u001b[1;33m\u001b[0m\u001b[0m\n\u001b[0;32m    169\u001b[0m \u001b[0mprototypes\u001b[0m \u001b[1;33m=\u001b[0m \u001b[1;33m{\u001b[0m\u001b[0mt\u001b[0m \u001b[1;33m:\u001b[0m \u001b[0mTetrimino\u001b[0m\u001b[1;33m(\u001b[0m\u001b[0mt\u001b[0m\u001b[1;33m)\u001b[0m \u001b[1;32mfor\u001b[0m \u001b[0mt\u001b[0m \u001b[1;32min\u001b[0m \u001b[0mtypes\u001b[0m\u001b[1;33m}\u001b[0m\u001b[1;33m\u001b[0m\u001b[1;33m\u001b[0m\u001b[0m\n",
      "\u001b[1;31mKeyboardInterrupt\u001b[0m: "
     ]
    }
   ],
   "source": [
    "from montecarlo import *\n",
    "state = AIGame(Game())\n",
    "maxRolloutLength = 20\n",
    "mcts = MCTS(uniformPolicy, maxRolloutLength=maxRolloutLength)\n",
    "numIterations = 150\n",
    "def chooseAction(state):\n",
    "    return mcts.chooseAction(state, numIterations=numIterations)\n",
    "uniformRolloutMCTSLowLevelResults = runLowLevelExperiment(state, chooseAction, numGames=10)"
   ]
  },
  {
   "cell_type": "code",
   "execution_count": 64,
   "metadata": {},
   "outputs": [
    {
     "data": {
      "application/vnd.jupyter.widget-view+json": {
       "model_id": "ad366c1c1a5e4b8f8c0927a81d1da300",
       "version_major": 2,
       "version_minor": 0
      },
      "text/plain": [
       "games loop:   0%|          | 0/5 [00:00<?, ?it/s]"
      ]
     },
     "metadata": {},
     "output_type": "display_data"
    },
    {
     "data": {
      "application/vnd.jupyter.widget-view+json": {
       "model_id": "84165e95219c468fbb5decdb10403001",
       "version_major": 2,
       "version_minor": 0
      },
      "text/plain": [
       "game 0:   0%|          | 0/1000 [00:00<?, ?it/s]"
      ]
     },
     "metadata": {},
     "output_type": "display_data"
    },
    {
     "data": {
      "application/vnd.jupyter.widget-view+json": {
       "model_id": "2f0ab62d8dec43a89f9a65cce9674d85",
       "version_major": 2,
       "version_minor": 0
      },
      "text/plain": [
       "game 1:   0%|          | 0/1000 [00:00<?, ?it/s]"
      ]
     },
     "metadata": {},
     "output_type": "display_data"
    },
    {
     "data": {
      "application/vnd.jupyter.widget-view+json": {
       "model_id": "a9680c7569e24a2990bd06be85d6b37f",
       "version_major": 2,
       "version_minor": 0
      },
      "text/plain": [
       "game 2:   0%|          | 0/1000 [00:00<?, ?it/s]"
      ]
     },
     "metadata": {},
     "output_type": "display_data"
    },
    {
     "data": {
      "application/vnd.jupyter.widget-view+json": {
       "model_id": "93961bcf4d2340c882fcdd636a186a41",
       "version_major": 2,
       "version_minor": 0
      },
      "text/plain": [
       "game 3:   0%|          | 0/1000 [00:00<?, ?it/s]"
      ]
     },
     "metadata": {},
     "output_type": "display_data"
    },
    {
     "data": {
      "application/vnd.jupyter.widget-view+json": {
       "model_id": "ac1c876932c7490bb1e27990d6ccc2e6",
       "version_major": 2,
       "version_minor": 0
      },
      "text/plain": [
       "game 4:   0%|          | 0/1000 [00:00<?, ?it/s]"
      ]
     },
     "metadata": {},
     "output_type": "display_data"
    }
   ],
   "source": [
    "from montecarlo import *\n",
    "state = AIGame(Game())\n",
    "maxRolloutLength = 4\n",
    "mcts = MCTS(greedyHeuristicPolicy, maxRolloutLength=maxRolloutLength)\n",
    "numIterations = 75\n",
    "def chooseAction(state):\n",
    "    return mcts.chooseAction(state, numIterations=numIterations)\n",
    "greedyHeuristicRolloutLowLevelMCTSResults = runLowLevelExperiment(state, chooseAction, numGames=5)"
   ]
  },
  {
   "cell_type": "code",
   "execution_count": 65,
   "metadata": {},
   "outputs": [
    {
     "data": {
      "application/vnd.jupyter.widget-view+json": {
       "model_id": "2ae61ce8f771401497e43e69240799ad",
       "version_major": 2,
       "version_minor": 0
      },
      "text/plain": [
       "games loop:   0%|          | 0/10 [00:00<?, ?it/s]"
      ]
     },
     "metadata": {},
     "output_type": "display_data"
    },
    {
     "data": {
      "application/vnd.jupyter.widget-view+json": {
       "model_id": "69acee0e86b24c9e98cfe2abd839de35",
       "version_major": 2,
       "version_minor": 0
      },
      "text/plain": [
       "game 0:   0%|          | 0/1000 [00:00<?, ?it/s]"
      ]
     },
     "metadata": {},
     "output_type": "display_data"
    },
    {
     "data": {
      "application/vnd.jupyter.widget-view+json": {
       "model_id": "8328073fceff4e26961eeafce31a99a9",
       "version_major": 2,
       "version_minor": 0
      },
      "text/plain": [
       "game 1:   0%|          | 0/1000 [00:00<?, ?it/s]"
      ]
     },
     "metadata": {},
     "output_type": "display_data"
    },
    {
     "data": {
      "application/vnd.jupyter.widget-view+json": {
       "model_id": "371a08b8071e4dc795844f2bd064aa21",
       "version_major": 2,
       "version_minor": 0
      },
      "text/plain": [
       "game 2:   0%|          | 0/1000 [00:00<?, ?it/s]"
      ]
     },
     "metadata": {},
     "output_type": "display_data"
    },
    {
     "data": {
      "application/vnd.jupyter.widget-view+json": {
       "model_id": "845a35da312e48629a4f1e2ccf6b1402",
       "version_major": 2,
       "version_minor": 0
      },
      "text/plain": [
       "game 3:   0%|          | 0/1000 [00:00<?, ?it/s]"
      ]
     },
     "metadata": {},
     "output_type": "display_data"
    },
    {
     "data": {
      "application/vnd.jupyter.widget-view+json": {
       "model_id": "a34cc8ddfff7477886992964e712e8dc",
       "version_major": 2,
       "version_minor": 0
      },
      "text/plain": [
       "game 4:   0%|          | 0/1000 [00:00<?, ?it/s]"
      ]
     },
     "metadata": {},
     "output_type": "display_data"
    },
    {
     "data": {
      "application/vnd.jupyter.widget-view+json": {
       "model_id": "7b2609b485c44a94b2437f73574be233",
       "version_major": 2,
       "version_minor": 0
      },
      "text/plain": [
       "game 5:   0%|          | 0/1000 [00:00<?, ?it/s]"
      ]
     },
     "metadata": {},
     "output_type": "display_data"
    },
    {
     "data": {
      "application/vnd.jupyter.widget-view+json": {
       "model_id": "daed607fd0124f1fbd11924514c22fce",
       "version_major": 2,
       "version_minor": 0
      },
      "text/plain": [
       "game 6:   0%|          | 0/1000 [00:00<?, ?it/s]"
      ]
     },
     "metadata": {},
     "output_type": "display_data"
    },
    {
     "data": {
      "application/vnd.jupyter.widget-view+json": {
       "model_id": "5ac21b44770849f6b51268e68a0c9fb6",
       "version_major": 2,
       "version_minor": 0
      },
      "text/plain": [
       "game 7:   0%|          | 0/1000 [00:00<?, ?it/s]"
      ]
     },
     "metadata": {},
     "output_type": "display_data"
    },
    {
     "data": {
      "application/vnd.jupyter.widget-view+json": {
       "model_id": "6ef89ceba00c411caf91b45863c68558",
       "version_major": 2,
       "version_minor": 0
      },
      "text/plain": [
       "game 8:   0%|          | 0/1000 [00:00<?, ?it/s]"
      ]
     },
     "metadata": {},
     "output_type": "display_data"
    },
    {
     "data": {
      "application/vnd.jupyter.widget-view+json": {
       "model_id": "ce15b9eaa003460784507ac9356dbed4",
       "version_major": 2,
       "version_minor": 0
      },
      "text/plain": [
       "game 9:   0%|          | 0/1000 [00:00<?, ?it/s]"
      ]
     },
     "metadata": {},
     "output_type": "display_data"
    }
   ],
   "source": [
    "import minimax\n",
    "state = AIGame(Game())\n",
    "def chooseAction(state):\n",
    "    return minimax.chooseAction(state, maxDepth=0)\n",
    "minimax0LowLevelResults = runLowLevelExperiment(state, chooseAction, numGames=10)"
   ]
  },
  {
   "cell_type": "code",
   "execution_count": 66,
   "metadata": {},
   "outputs": [
    {
     "data": {
      "application/vnd.jupyter.widget-view+json": {
       "model_id": "1535afa473964754aa1586f3b04fc4ac",
       "version_major": 2,
       "version_minor": 0
      },
      "text/plain": [
       "games loop:   0%|          | 0/10 [00:00<?, ?it/s]"
      ]
     },
     "metadata": {},
     "output_type": "display_data"
    },
    {
     "data": {
      "application/vnd.jupyter.widget-view+json": {
       "model_id": "a3aa90b13f3248d79f56703ba5f0c39f",
       "version_major": 2,
       "version_minor": 0
      },
      "text/plain": [
       "game 0:   0%|          | 0/1000 [00:00<?, ?it/s]"
      ]
     },
     "metadata": {},
     "output_type": "display_data"
    },
    {
     "data": {
      "application/vnd.jupyter.widget-view+json": {
       "model_id": "f98a86fd9ecd428d8fe503b4e28a336e",
       "version_major": 2,
       "version_minor": 0
      },
      "text/plain": [
       "game 1:   0%|          | 0/1000 [00:00<?, ?it/s]"
      ]
     },
     "metadata": {},
     "output_type": "display_data"
    },
    {
     "data": {
      "application/vnd.jupyter.widget-view+json": {
       "model_id": "00031c122bd943bab56fffb800a77afc",
       "version_major": 2,
       "version_minor": 0
      },
      "text/plain": [
       "game 2:   0%|          | 0/1000 [00:00<?, ?it/s]"
      ]
     },
     "metadata": {},
     "output_type": "display_data"
    },
    {
     "data": {
      "application/vnd.jupyter.widget-view+json": {
       "model_id": "7498913a7d6747b0b56602a62813cd67",
       "version_major": 2,
       "version_minor": 0
      },
      "text/plain": [
       "game 3:   0%|          | 0/1000 [00:00<?, ?it/s]"
      ]
     },
     "metadata": {},
     "output_type": "display_data"
    },
    {
     "data": {
      "application/vnd.jupyter.widget-view+json": {
       "model_id": "e404552a2e924d96a0ed4aa4c5adf2f0",
       "version_major": 2,
       "version_minor": 0
      },
      "text/plain": [
       "game 4:   0%|          | 0/1000 [00:00<?, ?it/s]"
      ]
     },
     "metadata": {},
     "output_type": "display_data"
    },
    {
     "data": {
      "application/vnd.jupyter.widget-view+json": {
       "model_id": "cfa8da209e804e769b5b6a608bfe4549",
       "version_major": 2,
       "version_minor": 0
      },
      "text/plain": [
       "game 5:   0%|          | 0/1000 [00:00<?, ?it/s]"
      ]
     },
     "metadata": {},
     "output_type": "display_data"
    },
    {
     "data": {
      "application/vnd.jupyter.widget-view+json": {
       "model_id": "b795e902592d4b0b9111d66d4a90f79c",
       "version_major": 2,
       "version_minor": 0
      },
      "text/plain": [
       "game 6:   0%|          | 0/1000 [00:00<?, ?it/s]"
      ]
     },
     "metadata": {},
     "output_type": "display_data"
    },
    {
     "data": {
      "application/vnd.jupyter.widget-view+json": {
       "model_id": "a8e4031e6452466eac667617f7421ff6",
       "version_major": 2,
       "version_minor": 0
      },
      "text/plain": [
       "game 7:   0%|          | 0/1000 [00:00<?, ?it/s]"
      ]
     },
     "metadata": {},
     "output_type": "display_data"
    },
    {
     "data": {
      "application/vnd.jupyter.widget-view+json": {
       "model_id": "4904adcbf806422da88deff0059e6d73",
       "version_major": 2,
       "version_minor": 0
      },
      "text/plain": [
       "game 8:   0%|          | 0/1000 [00:00<?, ?it/s]"
      ]
     },
     "metadata": {},
     "output_type": "display_data"
    },
    {
     "data": {
      "application/vnd.jupyter.widget-view+json": {
       "model_id": "27354033a0f9442289af8c39ad1fdf9f",
       "version_major": 2,
       "version_minor": 0
      },
      "text/plain": [
       "game 9:   0%|          | 0/1000 [00:00<?, ?it/s]"
      ]
     },
     "metadata": {},
     "output_type": "display_data"
    }
   ],
   "source": [
    "state = AIGame(Game())\n",
    "def chooseAction(state):\n",
    "    return minimax.chooseAction(state, maxDepth=1)\n",
    "minimax1LowLevelResults = runLowLevelExperiment(state, chooseAction, numGames=10)"
   ]
  },
  {
   "cell_type": "code",
   "execution_count": 68,
   "metadata": {},
   "outputs": [
    {
     "data": {
      "image/png": "[encoded data removed]",
      "text/plain": [
       "<Figure size 864x576 with 1 Axes>"
      ]
     },
     "metadata": {
      "needs_background": "light"
     },
     "output_type": "display_data"
    }
   ],
   "source": [
    "plot_curves([scores(scoreEvalMCTSLowLevelResults),\n",
    "             scores(heuristicEvalMCTSLowLevelResults),\n",
    "             # scores(uniformRolloutMCTSLowLevelResults),\n",
    "             scores(greedyHeuristicRolloutLowLevelMCTSResults),\n",
    "             scores(minimax0LowLevelResults),\n",
    "             scores(minimax1LowLevelResults),\n",
    "             scores(randomLowLevelResults)],\n",
    "            [\"Score Evaluation MCTS\",\n",
    "             \"Heuristic Evaluation MCTS\",\n",
    "             # \"Uniform Rollout MCTS\",\n",
    "             \"Greedy Heuristic Rollout MCTS\",\n",
    "             \"Greedy Heuristic Policy\",\n",
    "             \"Heuristic Minimax (depth=2)\",\n",
    "             \"Uniform Policy\"],\n",
    "            [\"red\",\n",
    "             \"orange\",\n",
    "             # \"yellow\",\n",
    "             \"green\",\n",
    "             \"blue\",\n",
    "             \"purple\",\n",
    "             \"black\"],\n",
    "            \"Score\",\n",
    "            \"Score over time for low level action formulation\")"
   ]
  }
 ],
 "metadata": {
  "kernelspec": {
   "display_name": "Python 3 (ipykernel)",
   "language": "python",
   "name": "python3"
  },
  "language_info": {
   "codemirror_mode": {
    "name": "ipython",
    "version": 3
   },
   "file_extension": ".py",
   "mimetype": "text/x-python",
   "name": "python",
   "nbconvert_exporter": "python",
   "pygments_lexer": "ipython3",
   "version": "3.8.0"
  }
 },
 "nbformat": 4,
 "nbformat_minor": 4
}
